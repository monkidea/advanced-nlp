{
 "cells": [
  {
   "cell_type": "code",
   "execution_count": 1,
   "metadata": {},
   "outputs": [],
   "source": [
    "import pandas as pd\n",
    "import numpy as np\n",
    "import matplotlib.pyplot as plt\n",
    "import tensorflow as tf\n",
    "import os"
   ]
  },
  {
   "cell_type": "code",
   "execution_count": 2,
   "metadata": {},
   "outputs": [
    {
     "name": "stdout",
     "output_type": "stream",
     "text": [
      "Found 400000 word embeddings\n"
     ]
    }
   ],
   "source": [
    "embeddings_index = {}\n",
    "\n",
    "f = open ('../glove.6B.100d.txt','r', encoding='utf-8')\n",
    "for line in f:\n",
    "    values = line.split()\n",
    "    word = values[0]\n",
    "    coefs = np.asarray(values[1:])\n",
    "    embeddings_index[word]=coefs\n",
    "\n",
    "f.close()\n",
    "print ('Found %s word embeddings'%(len(embeddings_index)))"
   ]
  },
  {
   "cell_type": "code",
   "execution_count": 150,
   "metadata": {},
   "outputs": [],
   "source": [
    "input_texts = []\n",
    "target_texts = []\n",
    "\n",
    "for line in open('./data/poetry/robert_frost.txt'):\n",
    "    line = line.rstrip()\n",
    "    input_line = '<sos> '+line\n",
    "    target_line = line+' <eos>'\n",
    "    input_texts.append(input_line)\n",
    "    target_texts.append(target_line)\n",
    "    \n",
    "all_lines = input_texts + target_texts"
   ]
  },
  {
   "cell_type": "code",
   "execution_count": 173,
   "metadata": {},
   "outputs": [],
   "source": [
    "MAX_WORDS=20000\n",
    "EPOCHS=1\n",
    "OOV_TOKEN=0\n",
    "EMBEDDING_DIM = 100\n",
    "MAX_SEQ_LENGTH=20\n",
    "VALIDATION_SPLIT_RATIO= 0.2\n",
    "LSTM_UNITS=1000"
   ]
  },
  {
   "cell_type": "code",
   "execution_count": 167,
   "metadata": {},
   "outputs": [
    {
     "name": "stdout",
     "output_type": "stream",
     "text": [
      "Found 3057 unique words\n",
      "Found 1581 input sequences\n",
      "Found 1581 output sequences\n",
      "max seq length is 12\n",
      "Created 1581 padded input sequences\n",
      "Created 1581 padded target sequences\n"
     ]
    }
   ],
   "source": [
    "tokenizer = tf.keras.preprocessing.text.Tokenizer(num_words=MAX_WORDS, oov_token=OOV_TOKEN, filters='')\n",
    "tokenizer.fit_on_texts(all_lines)\n",
    "word2Idx = tokenizer.word_index\n",
    "\n",
    "print ('Found %d unique words'%(len(word2Idx)))\n",
    "\n",
    "input_sequences = tokenizer.texts_to_sequences(input_texts)\n",
    "target_sequences = tokenizer.texts_to_sequences(target_texts)\n",
    "print ('Found %d input sequences'%(len(input_sequences)))\n",
    "print ('Found %d output sequences'%(len(target_sequences)))\n",
    "\n",
    "max_seq_len_from_data = min (MAX_SEQ_LENGTH, max(len(s) for s in input_sequences))\n",
    "print ('max seq length is %d'%(max_seq_len_from_data))\n",
    "\n",
    "padded_input_sequences = tf.keras.preprocessing.sequence.pad_sequences(input_sequences, padding='post', maxlen=max_seq_len_from_data)\n",
    "padded_target_sequences = tf.keras.preprocessing.sequence.pad_sequences(target_sequences, padding='post', maxlen=max_seq_len_from_data)\n",
    "\n",
    "print ('Created %d padded input sequences'%(len(padded_input_sequences)))\n",
    "print ('Created %d padded target sequences'%(len(padded_target_sequences)))\n",
    "\n",
    "assert ('<sos>' in word2Idx)\n",
    "assert ('<eos>' in word2Idx)"
   ]
  },
  {
   "cell_type": "code",
   "execution_count": 168,
   "metadata": {},
   "outputs": [
    {
     "name": "stdout",
     "output_type": "stream",
     "text": [
      "Min words to be considered are 3058\n",
      "(3058, 100)\n"
     ]
    }
   ],
   "source": [
    "num_words = min (MAX_WORDS, len(word2Idx)+1)\n",
    "print ('Min words to be considered are %d'%(num_words))\n",
    "\n",
    "loaded_embeddings_matrix = np.zeros((num_words, EMBEDDING_DIM))\n",
    "\n",
    "for word, i in word2Idx.items():\n",
    "    if (i<num_words):\n",
    "        if word in embeddings_index.keys():\n",
    "            embedding_vector = embeddings_index[word]\n",
    "            loaded_embeddings_matrix[i] = embedding_vector\n",
    "\n",
    "print (loaded_embeddings_matrix.shape)"
   ]
  },
  {
   "cell_type": "code",
   "execution_count": 169,
   "metadata": {},
   "outputs": [
    {
     "name": "stdout",
     "output_type": "stream",
     "text": [
      "(1581, 12, 3058)\n"
     ]
    }
   ],
   "source": [
    "one_hot_targets = np.zeros((len(target_sequences), max_seq_len_from_data, num_words))\n",
    "print (one_hot_targets.shape)\n",
    "for i, seq in enumerate(padded_target_sequences):\n",
    "    for j, word in enumerate(seq):\n",
    "        if (word>0):\n",
    "            one_hot_targets[i,j,word]=1"
   ]
  },
  {
   "cell_type": "code",
   "execution_count": 170,
   "metadata": {},
   "outputs": [],
   "source": [
    "embed_layer = tf.keras.layers.Embedding(input_dim = num_words,\n",
    "                               output_dim = EMBEDDING_DIM,\n",
    "                               input_length=max_seq_len_from_data, \n",
    "                               embeddings_initializer=tf.keras.initializers.Constant(loaded_embeddings_matrix),\n",
    "                               trainable=True)"
   ]
  },
  {
   "cell_type": "code",
   "execution_count": 171,
   "metadata": {},
   "outputs": [
    {
     "name": "stdout",
     "output_type": "stream",
     "text": [
      "(?, 12, 1000)\n",
      "(?, 1000)\n",
      "(?, 1000)\n",
      "Model: \"model_15\"\n",
      "__________________________________________________________________________________________________\n",
      "Layer (type)                    Output Shape         Param #     Connected to                     \n",
      "==================================================================================================\n",
      "input_46 (InputLayer)           [(None, 12)]         0                                            \n",
      "__________________________________________________________________________________________________\n",
      "embedding_6 (Embedding)         (None, 12, 100)      305800      input_46[0][0]                   \n",
      "__________________________________________________________________________________________________\n",
      "lstm_8 (LSTM)                   [(None, 12, 1000), ( 4404000     embedding_6[0][0]                \n",
      "__________________________________________________________________________________________________\n",
      "input_47 (InputLayer)           [(None, 1000)]       0                                            \n",
      "__________________________________________________________________________________________________\n",
      "input_48 (InputLayer)           [(None, 1000)]       0                                            \n",
      "__________________________________________________________________________________________________\n",
      "dense_8 (Dense)                 (None, 12, 3058)     3061058     lstm_8[0][0]                     \n",
      "==================================================================================================\n",
      "Total params: 7,770,858\n",
      "Trainable params: 7,770,858\n",
      "Non-trainable params: 0\n",
      "__________________________________________________________________________________________________\n"
     ]
    }
   ],
   "source": [
    "input_ = tf.keras.layers.Input(shape=(max_seq_len_from_data))\n",
    "initial_h = tf.keras.layers.Input(shape=(LSTM_UNITS,))\n",
    "initial_c = tf.keras.layers.Input(shape=(LSTM_UNITS,))\n",
    "\n",
    "x = embed_layer(input_)\n",
    "\n",
    "lstm_layer_0 = tf.keras.layers.LSTM(units=LSTM_UNITS, return_sequences=True, return_state=True)\n",
    "x,h,c = lstm_layer_0(x)\n",
    "\n",
    "print (x.shape)\n",
    "print (h.shape)\n",
    "print (c.shape)\n",
    "dense_layer = tf.keras.layers.Dense(num_words, activation='softmax')\n",
    "output = dense_layer(x)\n",
    "\n",
    "model = tf.keras.models.Model([input_, initial_h, initial_c], output)\n",
    "\n",
    "model.compile (optimizer=tf.keras.optimizers.Adam(lr=0.01), loss='categorical_crossentropy', metrics=['accuracy'])\n",
    "model.summary()"
   ]
  },
  {
   "cell_type": "code",
   "execution_count": 174,
   "metadata": {},
   "outputs": [
    {
     "name": "stdout",
     "output_type": "stream",
     "text": [
      "1581/1581 [==============================] - 48s 30ms/sample - loss: 3.8530 - acc: 0.0968\n"
     ]
    }
   ],
   "source": [
    "h = np.zeros((len(padded_input_sequences),LSTM_UNITS))\n",
    "c = np.zeros((len(padded_input_sequences),LSTM_UNITS))\n",
    "history = model.fit ([padded_input_sequences,h,c], one_hot_targets, epochs=EPOCHS)"
   ]
  },
  {
   "cell_type": "code",
   "execution_count": 175,
   "metadata": {},
   "outputs": [
    {
     "name": "stdout",
     "output_type": "stream",
     "text": [
      "Model: \"model_16\"\n",
      "__________________________________________________________________________________________________\n",
      "Layer (type)                    Output Shape         Param #     Connected to                     \n",
      "==================================================================================================\n",
      "input_49 (InputLayer)           [(None, 1)]          0                                            \n",
      "__________________________________________________________________________________________________\n",
      "embedding_6 (Embedding)         multiple             305800      input_49[0][0]                   \n",
      "__________________________________________________________________________________________________\n",
      "input_50 (InputLayer)           [(None, 1000)]       0                                            \n",
      "__________________________________________________________________________________________________\n",
      "input_51 (InputLayer)           [(None, 1000)]       0                                            \n",
      "__________________________________________________________________________________________________\n",
      "lstm_8 (LSTM)                   multiple             4404000     embedding_6[1][0]                \n",
      "                                                                 input_50[0][0]                   \n",
      "                                                                 input_51[0][0]                   \n",
      "__________________________________________________________________________________________________\n",
      "dense_8 (Dense)                 multiple             3061058     lstm_8[1][0]                     \n",
      "==================================================================================================\n",
      "Total params: 7,770,858\n",
      "Trainable params: 7,770,858\n",
      "Non-trainable params: 0\n",
      "__________________________________________________________________________________________________\n"
     ]
    }
   ],
   "source": [
    "input2_ = tf.keras.layers.Input(shape=(1,))\n",
    "initial_h_1 = tf.keras.layers.Input(shape=(LSTM_UNITS,))\n",
    "initial_c_1 = tf.keras.layers.Input(shape=(LSTM_UNITS,))\n",
    "\n",
    "x = embed_layer(input2_)\n",
    "x,h,c = lstm_layer_0(x, initial_state = [initial_h_1, initial_c_1])\n",
    "\n",
    "output2_ = dense_layer(x)\n",
    "\n",
    "pred_model = tf.keras.models.Model([input2_, initial_h_1, initial_c_1], [output2_,h,c])\n",
    "pred_model.summary()"
   ]
  },
  {
   "cell_type": "code",
   "execution_count": 197,
   "metadata": {},
   "outputs": [
    {
     "name": "stdout",
     "output_type": "stream",
     "text": [
      "5\n",
      "how\n",
      "4\n",
      "world\n",
      "0.2102702260017395\n"
     ]
    }
   ],
   "source": [
    "word1 = 'horse'\n",
    "word1idx = word2Idx[word1]\n",
    "word1Vector = np.array([[word1idx]])\n",
    "\n",
    "word2 = 'night'\n",
    "word2idx = word2Idx[word2]\n",
    "word2Vector = np.array([[word2idx]])\n",
    "\n",
    "h = np.zeros((1,LSTM_UNITS))\n",
    "c = np.zeros((1,LSTM_UNITS))\n",
    "\n",
    "o1,h1,c1 = pred_model.predict([word1Vector, h, c])\n",
    "probs = o1[0,0]\n",
    "wordId = np.argmax(probs)\n",
    "print (wordId)\n",
    "print (idx2word[wordId])\n",
    "\n",
    "o2,h2,c2 = pred_model.predict([word2Vector, h, c])\n",
    "probs = o2[0,0]\n",
    "wordId = np.argmax(probs)\n",
    "print (wordId)\n",
    "print (idx2word[wordId])\n",
    "\n",
    "from scipy import spatial\n",
    "cosdiff = spatial.distance.cosine(h1, h2)\n",
    "print (cosdiff)"
   ]
  },
  {
   "cell_type": "code",
   "execution_count": 184,
   "metadata": {},
   "outputs": [
    {
     "name": "stdout",
     "output_type": "stream",
     "text": [
      "0.12282532453536987\n"
     ]
    }
   ],
   "source": []
  },
  {
   "cell_type": "code",
   "execution_count": null,
   "metadata": {},
   "outputs": [],
   "source": []
  },
  {
   "cell_type": "code",
   "execution_count": null,
   "metadata": {},
   "outputs": [],
   "source": []
  }
 ],
 "metadata": {
  "kernelspec": {
   "display_name": "Python 3",
   "language": "python",
   "name": "python3"
  },
  "language_info": {
   "codemirror_mode": {
    "name": "ipython",
    "version": 3
   },
   "file_extension": ".py",
   "mimetype": "text/x-python",
   "name": "python",
   "nbconvert_exporter": "python",
   "pygments_lexer": "ipython3",
   "version": "3.7.3"
  }
 },
 "nbformat": 4,
 "nbformat_minor": 2
}
