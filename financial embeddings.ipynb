{
 "cells": [
  {
   "cell_type": "code",
   "execution_count": 1,
   "metadata": {},
   "outputs": [],
   "source": [
    "import pandas as pd\n",
    "import numpy as np\n",
    "import matplotlib.pyplot as plt\n",
    "import tensorflow as tf\n",
    "import os"
   ]
  },
  {
   "cell_type": "code",
   "execution_count": 3,
   "metadata": {},
   "outputs": [
    {
     "name": "stdout",
     "output_type": "stream",
     "text": [
      "Number of web pages read is 152\n"
     ]
    }
   ],
   "source": [
    "import os\n",
    "import random\n",
    "\n",
    "input_dir = './scrapped pages'\n",
    "content = []\n",
    "\n",
    "def read_pages (input_dir):\n",
    "    dir_name = os.path.join(input_dir)\n",
    "    \n",
    "    for fname in os.listdir(dir_name):\n",
    "        if (fname[-4:]=='.txt'):\n",
    "            f = open (os.path.join(dir_name, fname), encoding='utf-8', mode='r')\n",
    "            c = f.read()\n",
    "            content.append(c)\n",
    "            f.close()\n",
    "                \n",
    "#read positive & negative reviews\n",
    "read_pages(input_dir)\n",
    "\n",
    "print ('Number of web pages read is %d'%(len(content)))"
   ]
  },
  {
   "cell_type": "markdown",
   "metadata": {},
   "source": [
    "# Save generated merged content in new file"
   ]
  },
  {
   "cell_type": "code",
   "execution_count": 4,
   "metadata": {},
   "outputs": [],
   "source": [
    "def save_content(filename, content):\n",
    "    \n",
    "    file = open(filename,'w',encoding='utf-8')\n",
    "    lines = '\\n'.join(content)\n",
    "    file.write(lines)\n",
    "    file.close()\n",
    "    \n",
    "save_content('merged-content.txt', content)"
   ]
  },
  {
   "cell_type": "markdown",
   "metadata": {},
   "source": [
    "# Read the Merged file"
   ]
  },
  {
   "cell_type": "code",
   "execution_count": 5,
   "metadata": {},
   "outputs": [],
   "source": [
    "def read_file(file):\n",
    "    f = open(file, 'r', encoding='utf-8')\n",
    "    lines = f.readlines()\n",
    "    data = '\\t'.join([line.strip() for line in lines])\n",
    "    return data\n",
    "\n",
    "data = read_file('merged-content.txt')"
   ]
  },
  {
   "cell_type": "markdown",
   "metadata": {},
   "source": [
    "# Clean the Read file"
   ]
  },
  {
   "cell_type": "code",
   "execution_count": 84,
   "metadata": {},
   "outputs": [
    {
     "name": "stderr",
     "output_type": "stream",
     "text": [
      "[nltk_data] Downloading package stopwords to C:\\Users\\Aditya\n",
      "[nltk_data]     Jain\\AppData\\Roaming\\nltk_data...\n",
      "[nltk_data]   Package stopwords is already up-to-date!\n"
     ]
    },
    {
     "name": "stdout",
     "output_type": "stream",
     "text": [
      "term\n",
      "Number of tokens are  70548\n",
      "Number of unique tokens is  6852\n"
     ]
    }
   ],
   "source": [
    "import nltk\n",
    "nltk.download('stopwords')\n",
    "\n",
    "import re\n",
    "import string\n",
    "from nltk.corpus import stopwords\n",
    "import pandas as pd\n",
    "\n",
    "def clean_doc(doc):\n",
    "    \n",
    "    #replace -- with a space\n",
    "    doc = doc.replace('-',' ')\n",
    "    \n",
    "    #replace -- with a space\n",
    "    doc = doc.replace('.',' ')\n",
    "    \n",
    "    #split into tokens by white space\n",
    "    tokens = doc.split()\n",
    "    \n",
    "    # prepare for char filtering\n",
    "    re_punc = re.compile('[%s]'%re.escape(string.punctuation))\n",
    "    \n",
    "    #remove punctuation from words\n",
    "    tokens = [re_punc.sub('',w) for w in tokens]\n",
    "    \n",
    "    #remove remaining tokens that are not alphanumerics\n",
    "    tokens = [word for word in tokens if word.isalpha()]\n",
    "    \n",
    "    #make lower case\n",
    "    tokens = [word.lower() for word in tokens]\n",
    "    \n",
    "    #remove stop words & words which appear less than 1 times\n",
    "    stops = set(stopwords.words(\"english\"))\n",
    "    tokens = [word for word in tokens if not word in stops and len(word)>=3]\n",
    "\n",
    "    return tokens\n",
    "\n",
    "tokens = clean_doc(data)\n",
    "    \n",
    "print (tokens[0])\n",
    "print ('Number of tokens are ', len(tokens))\n",
    "print ('Number of unique tokens is ', len(set(tokens)))"
   ]
  },
  {
   "cell_type": "code",
   "execution_count": 85,
   "metadata": {},
   "outputs": [],
   "source": [
    "MAX_WORDS=80000\n",
    "BATCH_SIZE=16\n",
    "EPOCHS=2\n",
    "OOV_TOKEN=0\n",
    "EMBEDDING_DIM = 100\n",
    "MAX_SEQ_LENGTH=20\n",
    "VALIDATION_SPLIT_RATIO= 0.3\n",
    "LSTM_UNITS=64"
   ]
  },
  {
   "cell_type": "markdown",
   "metadata": {},
   "source": [
    "# Generate Sequences\n",
    "\n",
    "    - This method takes in bunch of tokens and then converts those tokens into sequences. The idea here is that we create\n",
    "    sequences of 21 tokens (words) each and then feed each sequence one at a time to the network. each word in the sequence represents a value at a given timesteps. All words in effect become the features"
   ]
  },
  {
   "cell_type": "code",
   "execution_count": 86,
   "metadata": {},
   "outputs": [
    {
     "name": "stdout",
     "output_type": "stream",
     "text": [
      "Total number of sequenes is  70528\n"
     ]
    }
   ],
   "source": [
    "def generate_sequences(size, tokens):\n",
    "    sequences = list()\n",
    "    size_seq = size + 1\n",
    "    for i in range (0, len(tokens)-size):\n",
    "        seq = tokens[i:size_seq+i]\n",
    "        line = ' '.join(seq)\n",
    "        sequences.append(line)\n",
    "        \n",
    "    print ('Total number of sequenes is ', len(sequences))\n",
    "    return sequences\n",
    "\n",
    "sequences = generate_sequences(MAX_SEQ_LENGTH, tokens)"
   ]
  },
  {
   "cell_type": "markdown",
   "metadata": {},
   "source": [
    "# Save generated sequences in new file"
   ]
  },
  {
   "cell_type": "code",
   "execution_count": 87,
   "metadata": {},
   "outputs": [],
   "source": [
    "def save_sequences(filename, sequences):\n",
    "    \n",
    "    file = open(filename,'w',encoding='utf-8')\n",
    "    lines = '\\n'.join(sequences)\n",
    "    file.write(lines)\n",
    "    file.close()\n",
    "    \n",
    "save_sequences('merged-content-cleaned.txt', sequences)"
   ]
  },
  {
   "cell_type": "markdown",
   "metadata": {},
   "source": [
    "# Read cleaned sequences from file"
   ]
  },
  {
   "cell_type": "code",
   "execution_count": 88,
   "metadata": {},
   "outputs": [],
   "source": [
    "def read_sequences(file):\n",
    "    f = open(file, 'r', encoding='utf-8')\n",
    "    lines = f.read()\n",
    "    return lines\n",
    "\n",
    "lines = read_sequences('merged-content-cleaned.txt')\n",
    "lines = lines.split('\\n')"
   ]
  },
  {
   "cell_type": "markdown",
   "metadata": {},
   "source": [
    "### Tokenize comments"
   ]
  },
  {
   "cell_type": "code",
   "execution_count": 89,
   "metadata": {},
   "outputs": [
    {
     "name": "stdout",
     "output_type": "stream",
     "text": [
      "Found 6853 unique words\n",
      "59\n",
      "Created 70528 padded input sequences\n"
     ]
    }
   ],
   "source": [
    "tokenizer = tf.keras.preprocessing.text.Tokenizer(num_words=MAX_WORDS, oov_token=OOV_TOKEN, filters='')\n",
    "tokenizer.fit_on_texts(lines)\n",
    "word2Idx = tokenizer.word_index\n",
    "VOCAB_LEN = len (word2Idx)+1\n",
    "\n",
    "print ('Found %d unique words'%(len(word2Idx)))\n",
    "print (word2Idx['isa'])\n",
    "\n",
    "sequences = tokenizer.texts_to_sequences(lines)\n",
    "padded_input_sequences = tf.keras.preprocessing.sequence.pad_sequences(sequences, padding='post', maxlen=max_seq_len_from_data)\n",
    "\n",
    "print ('Created %d padded input sequences'%(len(padded_input_sequences)))"
   ]
  },
  {
   "cell_type": "code",
   "execution_count": 90,
   "metadata": {},
   "outputs": [],
   "source": [
    "sequences = np.array(sequences)\n",
    "X = padded_input_sequences[:,:MAX_SEQ_LENGTH]\n",
    "y = padded_input_sequences[:,-1]\n",
    "y = tf.keras.utils.to_categorical(y, num_classes=VOCAB_LEN)"
   ]
  },
  {
   "cell_type": "markdown",
   "metadata": {},
   "source": [
    "#### Load GloVe embeddings"
   ]
  },
  {
   "cell_type": "code",
   "execution_count": null,
   "metadata": {},
   "outputs": [],
   "source": [
    "embeddings_index = {}\n",
    "\n",
    "f = open ('glove.6B.100d.txt','r', encoding='utf-8')\n",
    "for line in f:\n",
    "    values = line.split()\n",
    "    word = values[0]\n",
    "    coefs = np.asarray(values[1:])\n",
    "    embeddings_index[word]=coefs\n",
    "\n",
    "f.close()\n",
    "print ('Found %s word embeddings'%(len(embeddings_index)))"
   ]
  },
  {
   "cell_type": "code",
   "execution_count": 46,
   "metadata": {},
   "outputs": [
    {
     "name": "stdout",
     "output_type": "stream",
     "text": [
      "Min words to be considered are 6854\n",
      "(6854, 100)\n"
     ]
    }
   ],
   "source": [
    "num_words = min (MAX_WORDS, VOCAB_LEN)\n",
    "print ('Min words to be considered are %d'%(num_words))\n",
    "\n",
    "loaded_embeddings_matrix = np.zeros((num_words, EMBEDDING_DIM))\n",
    "\n",
    "for word, i in word2Idx.items():\n",
    "    if (i<num_words):\n",
    "        if word in embeddings_index.keys():\n",
    "            embedding_vector = embeddings_index[word]\n",
    "            loaded_embeddings_matrix[i] = embedding_vector\n",
    "\n",
    "print (loaded_embeddings_matrix.shape)"
   ]
  },
  {
   "cell_type": "markdown",
   "metadata": {},
   "source": [
    "# Configure Callbacks which would be executed during the training phase"
   ]
  },
  {
   "cell_type": "markdown",
   "metadata": {},
   "source": [
    "### Build Model"
   ]
  },
  {
   "cell_type": "code",
   "execution_count": 55,
   "metadata": {},
   "outputs": [],
   "source": [
    "embed_layer = tf.keras.layers.Embedding(input_dim = num_words,\n",
    "                               output_dim = EMBEDDING_DIM,\n",
    "                               input_length=max_seq_len_from_data, \n",
    "                               embeddings_initializer=tf.keras.initializers.Constant(loaded_embeddings_matrix),\n",
    "                               trainable=True)"
   ]
  },
  {
   "cell_type": "code",
   "execution_count": 91,
   "metadata": {},
   "outputs": [
    {
     "name": "stdout",
     "output_type": "stream",
     "text": [
      "Model: \"model_12\"\n",
      "_________________________________________________________________\n",
      "Layer (type)                 Output Shape              Param #   \n",
      "=================================================================\n",
      "input_27 (InputLayer)        [(None, 20)]              0         \n",
      "_________________________________________________________________\n",
      "embedding_1 (Embedding)      multiple                  685400    \n",
      "_________________________________________________________________\n",
      "lstm_22 (LSTM)               (None, 20, 64)            42240     \n",
      "_________________________________________________________________\n",
      "dense_14 (Dense)             (None, 20, 6854)          445510    \n",
      "_________________________________________________________________\n",
      "dense_15 (Dense)             (None, 20, 6854)          46984170  \n",
      "=================================================================\n",
      "Total params: 48,157,320\n",
      "Trainable params: 48,157,320\n",
      "Non-trainable params: 0\n",
      "_________________________________________________________________\n"
     ]
    }
   ],
   "source": [
    "input_ = tf.keras.layers.Input(shape=(max_seq_len_from_data))\n",
    "\n",
    "x = embed_layer(input_)\n",
    "\n",
    "lstm_layer_0 = tf.keras.layers.LSTM(units=LSTM_UNITS, return_sequences=True)\n",
    "x = lstm_layer_0(x)\n",
    "\n",
    "#lstm_layer_1 = tf.keras.layers.LSTM(units=LSTM_UNITS, return_sequences=True, return_state=True)\n",
    "#x,h,c = lstm_layer_1(x)\n",
    "dense_layer1 = tf.keras.layers.Dense(num_words, activation='relu')\n",
    "x = dense_layer1(x)\n",
    "\n",
    "dense_layer2 = tf.keras.layers.Dense(num_words, activation='softmax')\n",
    "output = dense_layer2(x)\n",
    "\n",
    "model = tf.keras.models.Model(input_, output)\n",
    "\n",
    "model.compile (optimizer='adam', loss='categorical_crossentropy', metrics=['accuracy'])\n",
    "model.summary()"
   ]
  },
  {
   "cell_type": "code",
   "execution_count": 60,
   "metadata": {},
   "outputs": [],
   "source": [
    "from sklearn.model_selection import train_test_split\n",
    "\n",
    "train_sentences, test_sentences, train_targets, test_targets = train_test_split (X, y)"
   ]
  },
  {
   "cell_type": "code",
   "execution_count": 92,
   "metadata": {},
   "outputs": [
    {
     "name": "stdout",
     "output_type": "stream",
     "text": [
      "(52896, 20)\n",
      "(17632, 20)\n",
      "(52896, 6854)\n",
      "(17632, 6854)\n",
      "[460 461 680 679  11 198 151 171  34  13 181  12  25 423  11 681 372  21\n",
      "  72 289]\n",
      "[0. 0. 0. ... 0. 0. 0.]\n"
     ]
    }
   ],
   "source": [
    "print (train_sentences.shape)\n",
    "print (test_sentences.shape)\n",
    "print (train_targets.shape)\n",
    "print (test_targets.shape)\n",
    "print (train_sentences[0])\n",
    "print (train_targets[0])"
   ]
  },
  {
   "cell_type": "code",
   "execution_count": 93,
   "metadata": {},
   "outputs": [
    {
     "ename": "ValueError",
     "evalue": "A target array with shape (52896, 6854) was passed for an output of shape (None, 20, 6854) while using as loss `categorical_crossentropy`. This loss expects targets to have the same shape as the output.",
     "output_type": "error",
     "traceback": [
      "\u001b[1;31m---------------------------------------------------------------------------\u001b[0m",
      "\u001b[1;31mValueError\u001b[0m                                Traceback (most recent call last)",
      "\u001b[1;32m<ipython-input-93-9584edee898f>\u001b[0m in \u001b[0;36m<module>\u001b[1;34m\u001b[0m\n\u001b[1;32m----> 1\u001b[1;33m \u001b[0mmodel\u001b[0m\u001b[1;33m.\u001b[0m\u001b[0mfit\u001b[0m \u001b[1;33m(\u001b[0m\u001b[0mtrain_sentences\u001b[0m\u001b[1;33m,\u001b[0m \u001b[0mtrain_targets\u001b[0m\u001b[1;33m,\u001b[0m \u001b[0mbatch_size\u001b[0m\u001b[1;33m=\u001b[0m\u001b[0mBATCH_SIZE\u001b[0m\u001b[1;33m,\u001b[0m \u001b[0mepochs\u001b[0m\u001b[1;33m=\u001b[0m\u001b[0mEPOCHS\u001b[0m\u001b[1;33m,\u001b[0m \u001b[0mvalidation_split\u001b[0m\u001b[1;33m=\u001b[0m\u001b[0mVALIDATION_SPLIT_RATIO\u001b[0m\u001b[1;33m)\u001b[0m\u001b[1;33m\u001b[0m\u001b[1;33m\u001b[0m\u001b[0m\n\u001b[0m",
      "\u001b[1;32mC:\\MachineLearning\\anaconda\\lib\\site-packages\\tensorflow\\python\\keras\\engine\\training.py\u001b[0m in \u001b[0;36mfit\u001b[1;34m(self, x, y, batch_size, epochs, verbose, callbacks, validation_split, validation_data, shuffle, class_weight, sample_weight, initial_epoch, steps_per_epoch, validation_steps, validation_freq, max_queue_size, workers, use_multiprocessing, **kwargs)\u001b[0m\n\u001b[0;32m    641\u001b[0m         \u001b[0mmax_queue_size\u001b[0m\u001b[1;33m=\u001b[0m\u001b[0mmax_queue_size\u001b[0m\u001b[1;33m,\u001b[0m\u001b[1;33m\u001b[0m\u001b[1;33m\u001b[0m\u001b[0m\n\u001b[0;32m    642\u001b[0m         \u001b[0mworkers\u001b[0m\u001b[1;33m=\u001b[0m\u001b[0mworkers\u001b[0m\u001b[1;33m,\u001b[0m\u001b[1;33m\u001b[0m\u001b[1;33m\u001b[0m\u001b[0m\n\u001b[1;32m--> 643\u001b[1;33m         use_multiprocessing=use_multiprocessing)\n\u001b[0m\u001b[0;32m    644\u001b[0m \u001b[1;33m\u001b[0m\u001b[0m\n\u001b[0;32m    645\u001b[0m   def evaluate(self,\n",
      "\u001b[1;32mC:\\MachineLearning\\anaconda\\lib\\site-packages\\tensorflow\\python\\keras\\engine\\training_arrays.py\u001b[0m in \u001b[0;36mfit\u001b[1;34m(self, model, x, y, batch_size, epochs, verbose, callbacks, validation_split, validation_data, shuffle, class_weight, sample_weight, initial_epoch, steps_per_epoch, validation_steps, validation_freq, **kwargs)\u001b[0m\n\u001b[0;32m    630\u001b[0m         \u001b[0msteps\u001b[0m\u001b[1;33m=\u001b[0m\u001b[0msteps_per_epoch\u001b[0m\u001b[1;33m,\u001b[0m\u001b[1;33m\u001b[0m\u001b[1;33m\u001b[0m\u001b[0m\n\u001b[0;32m    631\u001b[0m         \u001b[0mvalidation_split\u001b[0m\u001b[1;33m=\u001b[0m\u001b[0mvalidation_split\u001b[0m\u001b[1;33m,\u001b[0m\u001b[1;33m\u001b[0m\u001b[1;33m\u001b[0m\u001b[0m\n\u001b[1;32m--> 632\u001b[1;33m         shuffle=shuffle)\n\u001b[0m\u001b[0;32m    633\u001b[0m \u001b[1;33m\u001b[0m\u001b[0m\n\u001b[0;32m    634\u001b[0m     \u001b[1;32mif\u001b[0m \u001b[0mvalidation_data\u001b[0m\u001b[1;33m:\u001b[0m\u001b[1;33m\u001b[0m\u001b[1;33m\u001b[0m\u001b[0m\n",
      "\u001b[1;32mC:\\MachineLearning\\anaconda\\lib\\site-packages\\tensorflow\\python\\keras\\engine\\training.py\u001b[0m in \u001b[0;36m_standardize_user_data\u001b[1;34m(self, x, y, sample_weight, class_weight, batch_size, check_steps, steps_name, steps, validation_split, shuffle, extract_tensors_from_dataset)\u001b[0m\n\u001b[0;32m   2467\u001b[0m           \u001b[1;31m# Additional checks to avoid users mistakenly using improper loss fns.\u001b[0m\u001b[1;33m\u001b[0m\u001b[1;33m\u001b[0m\u001b[1;33m\u001b[0m\u001b[0m\n\u001b[0;32m   2468\u001b[0m           training_utils.check_loss_and_target_compatibility(\n\u001b[1;32m-> 2469\u001b[1;33m               y, self._feed_loss_fns, feed_output_shapes)\n\u001b[0m\u001b[0;32m   2470\u001b[0m \u001b[1;33m\u001b[0m\u001b[0m\n\u001b[0;32m   2471\u001b[0m       \u001b[1;31m# If sample weight mode has not been set and weights are None for all the\u001b[0m\u001b[1;33m\u001b[0m\u001b[1;33m\u001b[0m\u001b[1;33m\u001b[0m\u001b[0m\n",
      "\u001b[1;32mC:\\MachineLearning\\anaconda\\lib\\site-packages\\tensorflow\\python\\keras\\engine\\training_utils.py\u001b[0m in \u001b[0;36mcheck_loss_and_target_compatibility\u001b[1;34m(targets, loss_fns, output_shapes)\u001b[0m\n\u001b[0;32m    683\u001b[0m           raise ValueError('A target array with shape ' + str(y.shape) +\n\u001b[0;32m    684\u001b[0m                            \u001b[1;34m' was passed for an output of shape '\u001b[0m \u001b[1;33m+\u001b[0m \u001b[0mstr\u001b[0m\u001b[1;33m(\u001b[0m\u001b[0mshape\u001b[0m\u001b[1;33m)\u001b[0m \u001b[1;33m+\u001b[0m\u001b[1;33m\u001b[0m\u001b[1;33m\u001b[0m\u001b[0m\n\u001b[1;32m--> 685\u001b[1;33m                            \u001b[1;34m' while using as loss `'\u001b[0m \u001b[1;33m+\u001b[0m \u001b[0mloss_name\u001b[0m \u001b[1;33m+\u001b[0m \u001b[1;34m'`. '\u001b[0m\u001b[1;33m\u001b[0m\u001b[1;33m\u001b[0m\u001b[0m\n\u001b[0m\u001b[0;32m    686\u001b[0m                            \u001b[1;34m'This loss expects targets to have the same shape '\u001b[0m\u001b[1;33m\u001b[0m\u001b[1;33m\u001b[0m\u001b[0m\n\u001b[0;32m    687\u001b[0m                            'as the output.')\n",
      "\u001b[1;31mValueError\u001b[0m: A target array with shape (52896, 6854) was passed for an output of shape (None, 20, 6854) while using as loss `categorical_crossentropy`. This loss expects targets to have the same shape as the output."
     ]
    }
   ],
   "source": [
    "model.fit (train_sentences, train_targets, batch_size=BATCH_SIZE, epochs=EPOCHS, validation_split=VALIDATION_SPLIT_RATIO)"
   ]
  },
  {
   "cell_type": "code",
   "execution_count": null,
   "metadata": {},
   "outputs": [],
   "source": []
  }
 ],
 "metadata": {
  "kernelspec": {
   "display_name": "Python 3",
   "language": "python",
   "name": "python3"
  },
  "language_info": {
   "codemirror_mode": {
    "name": "ipython",
    "version": 3
   },
   "file_extension": ".py",
   "mimetype": "text/x-python",
   "name": "python",
   "nbconvert_exporter": "python",
   "pygments_lexer": "ipython3",
   "version": "3.7.3"
  }
 },
 "nbformat": 4,
 "nbformat_minor": 2
}
