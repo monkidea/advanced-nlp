{
 "cells": [
  {
   "cell_type": "code",
   "execution_count": 1,
   "metadata": {},
   "outputs": [],
   "source": [
    "import pandas as pd\n",
    "import numpy as np\n",
    "import matplotlib.pyplot as plt\n",
    "import tensorflow as tf\n",
    "import os"
   ]
  },
  {
   "cell_type": "markdown",
   "metadata": {},
   "source": [
    "#### Load GloVe embeddings"
   ]
  },
  {
   "cell_type": "code",
   "execution_count": 2,
   "metadata": {},
   "outputs": [
    {
     "name": "stdout",
     "output_type": "stream",
     "text": [
      "Found 400000 word embeddings\n"
     ]
    }
   ],
   "source": [
    "embeddings_index = {}\n",
    "\n",
    "f = open ('glove.6B.100d.txt','r', encoding='utf-8')\n",
    "for line in f:\n",
    "    values = line.split()\n",
    "    word = values[0]\n",
    "    coefs = np.asarray(values[1:])\n",
    "    embeddings_index[word]=coefs\n",
    "\n",
    "f.close()\n",
    "print ('Found %s word embeddings'%(len(embeddings_index)))"
   ]
  },
  {
   "cell_type": "markdown",
   "metadata": {},
   "source": [
    "### Load comments"
   ]
  },
  {
   "cell_type": "code",
   "execution_count": 3,
   "metadata": {},
   "outputs": [],
   "source": [
    "input_texts = []\n",
    "target_texts = []\n",
    "\n",
    "for line in open('./data/poetry/robert_frost.txt'):\n",
    "    line = line.rstrip()\n",
    "    input_line = '<sos>'+line\n",
    "    target_line = line+'<eos>'\n",
    "    input_texts.append(input_line)\n",
    "    target_texts.append(target_line)\n",
    "    \n",
    "all_lines = input_texts + target_texts"
   ]
  },
  {
   "cell_type": "code",
   "execution_count": 4,
   "metadata": {},
   "outputs": [],
   "source": [
    "MAX_WORDS=20000\n",
    "BATCH_SIZE=16\n",
    "EPOCHS=2\n",
    "OOV_TOKEN=0\n",
    "EMBEDDING_DIM = 100\n",
    "MAX_SEQ_LENGTH=100\n",
    "VALIDATION_SPLIT_RATIO= 0.3\n",
    "LSTM_UNITS=64"
   ]
  },
  {
   "cell_type": "markdown",
   "metadata": {},
   "source": [
    "### Tokenize comments"
   ]
  },
  {
   "cell_type": "code",
   "execution_count": 5,
   "metadata": {},
   "outputs": [
    {
     "name": "stdout",
     "output_type": "stream",
     "text": [
      "Found 4617 unique words\n",
      "1268\n",
      "Found 1581 input sequences\n",
      "Found 1581 output sequences\n",
      "Created 1581 padded input sequences\n",
      "Created 1581 padded target sequences\n"
     ]
    }
   ],
   "source": [
    "tokenizer = tf.keras.preprocessing.text.Tokenizer(num_words=MAX_WORDS, oov_token=OOV_TOKEN, filters='')\n",
    "tokenizer.fit_on_texts(all_lines)\n",
    "word2Idx = tokenizer.word_index\n",
    "\n",
    "print ('Found %d unique words'%(len(word2Idx)))\n",
    "print (word2Idx['girl'])\n",
    "\n",
    "input_sequences = tokenizer.texts_to_sequences(input_texts)\n",
    "target_sequences = tokenizer.texts_to_sequences(target_texts)\n",
    "print ('Found %d input sequences'%(len(input_sequences)))\n",
    "print ('Found %d output sequences'%(len(target_sequences)))\n",
    "\n",
    "max_seq_len_from_data = min (MAX_SEQ_LENGTH, max(len(s) for s in input_sequences))\n",
    "\n",
    "padded_input_sequences = tf.keras.preprocessing.sequence.pad_sequences(input_sequences, padding='post', maxlen=max_seq_len_from_data)\n",
    "padded_target_sequences = tf.keras.preprocessing.sequence.pad_sequences(target_sequences, padding='post', maxlen=max_seq_len_from_data)\n",
    "\n",
    "print ('Created %d padded input sequences'%(len(padded_input_sequences)))\n",
    "print ('Created %d padded target sequences'%(len(padded_target_sequences)))\n",
    "\n",
    "assert ('<sos>' in word2Idx)\n",
    "assert ('<eos>' in word2Idx)"
   ]
  },
  {
   "cell_type": "code",
   "execution_count": 6,
   "metadata": {},
   "outputs": [
    {
     "name": "stdout",
     "output_type": "stream",
     "text": [
      "Min words to be considered are 4618\n",
      "(4618, 100)\n"
     ]
    }
   ],
   "source": [
    "num_words = min (MAX_WORDS, len(word2Idx)+1)\n",
    "print ('Min words to be considered are %d'%(num_words))\n",
    "\n",
    "loaded_embeddings_matrix = np.zeros((num_words, EMBEDDING_DIM))\n",
    "\n",
    "for word, i in word2Idx.items():\n",
    "    if (i<num_words):\n",
    "        if word in embeddings_index.keys():\n",
    "            embedding_vector = embeddings_index[word]\n",
    "            loaded_embeddings_matrix[i] = embedding_vector\n",
    "\n",
    "print (loaded_embeddings_matrix.shape)"
   ]
  },
  {
   "cell_type": "code",
   "execution_count": 7,
   "metadata": {
    "scrolled": false
   },
   "outputs": [
    {
     "name": "stdout",
     "output_type": "stream",
     "text": [
      "[ 136  574  575    8    4  576 3470    0    0    0    0]\n",
      "[   5  577    6   69   31  987 3471    0    0    0    0]\n",
      "[   5   27   28  988  166    6 3472    0    0    0    0]\n",
      "[   5  184   72   28   17  140   17    6 3473    0    0]\n"
     ]
    }
   ],
   "source": [
    "for i, seq in enumerate(padded_target_sequences):\n",
    "    print (seq)\n",
    "    if (i>2):\n",
    "        break"
   ]
  },
  {
   "cell_type": "markdown",
   "metadata": {},
   "source": [
    "### Important Step:\n",
    "\n",
    "If we look at this problem statement, we have a set of input sequences and corresponding target sequences.\n",
    "\n",
    "Input Seq (T*D)-> Target Seq (T'*D')\n",
    "\n",
    "    T -> number of input sequences\n",
    "    D -> length of each input sequence\n",
    "\n",
    "    T' -> number of target sequences\n",
    "    D' -> length of each target sequence.\n",
    "\n",
    "In a seq2seq scenario the target value needs to be one-hot encoded and that's what we are doing below."
   ]
  },
  {
   "cell_type": "code",
   "execution_count": 8,
   "metadata": {},
   "outputs": [
    {
     "name": "stdout",
     "output_type": "stream",
     "text": [
      "(1581, 11, 4618)\n"
     ]
    }
   ],
   "source": [
    "one_hot_targets = np.zeros((len(target_sequences), max_seq_len_from_data, num_words))\n",
    "print (one_hot_targets.shape)\n",
    "for i, seq in enumerate(padded_target_sequences):\n",
    "    for j, word in enumerate(seq):\n",
    "        if (word>0):\n",
    "            one_hot_targets[i,j,word]=1"
   ]
  },
  {
   "cell_type": "markdown",
   "metadata": {},
   "source": [
    "### Build Model"
   ]
  },
  {
   "cell_type": "code",
   "execution_count": 9,
   "metadata": {},
   "outputs": [],
   "source": [
    "embed_layer = tf.keras.layers.Embedding(input_dim = num_words,\n",
    "                               output_dim = EMBEDDING_DIM,\n",
    "                               input_length=max_seq_len_from_data, \n",
    "                               embeddings_initializer=tf.keras.initializers.Constant(loaded_embeddings_matrix),\n",
    "                               trainable=False)"
   ]
  },
  {
   "cell_type": "code",
   "execution_count": 23,
   "metadata": {},
   "outputs": [],
   "source": [
    "input_ = tf.keras.layers.Input(shape=(max_seq_len_from_data))\n",
    "initial_h = tf.keras.layers.Input(shape=(LSTM_UNITS,))\n",
    "initial_c = tf.keras.layers.Input(shape=(LSTM_UNITS,))\n",
    "\n",
    "x = embed_layer(input_)\n",
    "\n",
    "lstm_layer = tf.keras.layers.LSTM(units=LSTM_UNITS, return_sequences=True, return_state=True)\n",
    "x,_,_ = lstm_layer(x)\n",
    "\n",
    "dense_layer = tf.keras.layers.Dense(num_words, activation='softmax')\n",
    "output = dense_layer(x)\n",
    "\n",
    "model = tf.keras.models.Model([input_, initial_h, initial_c], output)\n",
    "\n",
    "model.compile (optimizer='adam', loss='categorical_crossentropy', metrics=['accuracy'])"
   ]
  },
  {
   "cell_type": "code",
   "execution_count": 24,
   "metadata": {},
   "outputs": [],
   "source": [
    "from sklearn.model_selection import train_test_split\n",
    "\n",
    "train_sentences, test_sentences, train_targets, test_targets = train_test_split (padded_input_sequences, one_hot_targets)"
   ]
  },
  {
   "cell_type": "code",
   "execution_count": 25,
   "metadata": {},
   "outputs": [
    {
     "name": "stdout",
     "output_type": "stream",
     "text": [
      "Train on 829 samples, validate on 356 samples\n",
      "Epoch 1/2\n",
      "829/829 [==============================] - 5s 6ms/sample - loss: 4.9914 - accuracy: 0.0373 - val_loss: 4.5416 - val_accuracy: 0.0322\n",
      "Epoch 2/2\n",
      "829/829 [==============================] - 4s 4ms/sample - loss: 4.2912 - accuracy: 0.0303 - val_loss: 4.3543 - val_accuracy: 0.0322\n"
     ]
    },
    {
     "data": {
      "text/plain": [
       "<tensorflow.python.keras.callbacks.History at 0x225278f6ba8>"
      ]
     },
     "execution_count": 25,
     "metadata": {},
     "output_type": "execute_result"
    }
   ],
   "source": [
    "h = np.zeros((len(train_sentences),LSTM_UNITS))\n",
    "c = np.zeros((len(train_sentences),LSTM_UNITS))\n",
    "model.fit ([train_sentences,h,c], train_targets, batch_size=BATCH_SIZE, epochs=EPOCHS, validation_split=VALIDATION_SPLIT_RATIO)"
   ]
  },
  {
   "cell_type": "markdown",
   "metadata": {},
   "source": [
    "### Prediction Model"
   ]
  },
  {
   "cell_type": "code",
   "execution_count": 26,
   "metadata": {},
   "outputs": [
    {
     "name": "stdout",
     "output_type": "stream",
     "text": [
      "Model: \"model_4\"\n",
      "__________________________________________________________________________________________________\n",
      "Layer (type)                    Output Shape         Param #     Connected to                     \n",
      "==================================================================================================\n",
      "input_11 (InputLayer)           [(None, 1)]          0                                            \n",
      "__________________________________________________________________________________________________\n",
      "embedding (Embedding)           multiple             461800      input_11[0][0]                   \n",
      "__________________________________________________________________________________________________\n",
      "lstm_2 (LSTM)                   multiple             42240       embedding[4][0]                  \n",
      "__________________________________________________________________________________________________\n",
      "input_9 (InputLayer)            [(None, 64)]         0                                            \n",
      "__________________________________________________________________________________________________\n",
      "input_10 (InputLayer)           [(None, 64)]         0                                            \n",
      "__________________________________________________________________________________________________\n",
      "dense_2 (Dense)                 multiple             300170      lstm_2[1][0]                     \n",
      "==================================================================================================\n",
      "Total params: 804,210\n",
      "Trainable params: 342,410\n",
      "Non-trainable params: 461,800\n",
      "__________________________________________________________________________________________________\n"
     ]
    }
   ],
   "source": [
    "input2_ = tf.keras.layers.Input(shape=(1,))\n",
    "\n",
    "x = embed_layer(input2_)\n",
    "\n",
    "x,h,c = lstm_layer(x)\n",
    "\n",
    "output2_ = dense_layer(x)\n",
    "\n",
    "pred_model = tf.keras.models.Model([input2_, initial_h, initial_c], [output2_,h,c])\n",
    "pred_model.summary()"
   ]
  },
  {
   "cell_type": "code",
   "execution_count": 57,
   "metadata": {},
   "outputs": [
    {
     "name": "stdout",
     "output_type": "stream",
     "text": [
      "(1, 1)\n"
     ]
    }
   ],
   "source": [
    "test_input_word = '<sos>'\n",
    "test_input_word_idx = word2Idx[test_input_word]\n",
    "test_input_word_vector = np.array([[test_input_word_idx]])\n",
    "\n",
    "print (test_input_word_vector.shape)\n",
    "\n",
    "h = np.zeros([1,LSTM_UNITS])\n",
    "c = np.zeros([1,LSTM_UNITS])"
   ]
  },
  {
   "cell_type": "code",
   "execution_count": 58,
   "metadata": {},
   "outputs": [
    {
     "name": "stdout",
     "output_type": "stream",
     "text": [
      "Start word is  [[15]]\n",
      "Next Start word is  the\n",
      "Start word is  [[2]]\n",
      "Next Start word is  the\n",
      "Start word is  [[2]]\n",
      "Next Start word is  the\n",
      "Start word is  [[2]]\n",
      "Next Start word is  the\n",
      "Start word is  [[2]]\n",
      "Next Start word is  the\n",
      "Start word is  [[2]]\n",
      "Next Start word is  the\n",
      "Start word is  [[2]]\n",
      "Next Start word is  the\n",
      "Start word is  [[2]]\n",
      "Next Start word is  the\n",
      "Start word is  [[2]]\n",
      "Next Start word is  the\n",
      "Start word is  [[2]]\n",
      "Next Start word is  the\n",
      "Start word is  [[2]]\n",
      "Next Start word is  the\n"
     ]
    }
   ],
   "source": [
    "output_poem = []\n",
    "\n",
    "idx2word = {v:k for k, v in word2Idx.items()}\n",
    "\n",
    "for i in range(max_seq_len_from_data):\n",
    "    \n",
    "    print ('Start word is ',test_input_word_vector)\n",
    "    o,h,c = pred_model.predict([test_input_word_vector, h, c])\n",
    "    \n",
    "    prob_word = np.argmax(o)\n",
    "    \n",
    "    pred_word = idx2word[prob_word]\n",
    "    print ('Next Start word is ',pred_word)\n",
    "    \n",
    "    if (pred_word == '<eos>'):\n",
    "        break\n",
    "    \n",
    "    test_input_word_vector[0,0] = prob_word\n",
    "    \n",
    "    output_poem.append(pred_word + ' ')"
   ]
  },
  {
   "cell_type": "code",
   "execution_count": 53,
   "metadata": {},
   "outputs": [
    {
     "name": "stdout",
     "output_type": "stream",
     "text": [
      "['the ', 'the ', 'the ', 'the ', 'the ', 'the ', 'the ', 'the ', 'the ', 'the ', 'the ']\n"
     ]
    }
   ],
   "source": [
    "print (output_poem)"
   ]
  },
  {
   "cell_type": "code",
   "execution_count": null,
   "metadata": {},
   "outputs": [],
   "source": []
  }
 ],
 "metadata": {
  "kernelspec": {
   "display_name": "Python 3",
   "language": "python",
   "name": "python3"
  },
  "language_info": {
   "codemirror_mode": {
    "name": "ipython",
    "version": 3
   },
   "file_extension": ".py",
   "mimetype": "text/x-python",
   "name": "python",
   "nbconvert_exporter": "python",
   "pygments_lexer": "ipython3",
   "version": "3.7.3"
  }
 },
 "nbformat": 4,
 "nbformat_minor": 2
}
