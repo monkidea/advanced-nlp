{
 "cells": [
  {
   "cell_type": "code",
   "execution_count": null,
   "metadata": {},
   "outputs": [],
   "source": [
    "#!wget http://nlp.stanford.edu/data/glove.6B.zip\n",
    "#!unzip glove*.zip\n",
    "#! wget http://www.manythings.org/anki/deu-eng.zip\n",
    "#! unzip deu-eng.zip"
   ]
  },
  {
   "cell_type": "code",
   "execution_count": 1,
   "metadata": {},
   "outputs": [
    {
     "name": "stdout",
     "output_type": "stream",
     "text": [
      "TPU not found\n"
     ]
    }
   ],
   "source": [
    "import os\n",
    "try:\n",
    " device_name = os.environ['COLAB_TPU_ADDR']\n",
    " TPU_ADDRESS = 'grpc://' + device_name\n",
    " print('Found TPU at: {}'.format(TPU_ADDRESS))\n",
    "except KeyError:\n",
    " print('TPU not found')"
   ]
  },
  {
   "cell_type": "code",
   "execution_count": 2,
   "metadata": {},
   "outputs": [],
   "source": [
    "import pandas as pd\n",
    "import numpy as np\n",
    "import matplotlib.pyplot as plt\n",
    "import tensorflow as tf\n",
    "import os"
   ]
  },
  {
   "cell_type": "code",
   "execution_count": 3,
   "metadata": {},
   "outputs": [],
   "source": [
    "MAX_SAMPLES=150000\n",
    "MAX_WORDS=40000\n",
    "BATCH_SIZE=128\n",
    "EPOCHS=20\n",
    "OOV_TOKEN=0\n",
    "EMBEDDING_DIM = 100\n",
    "MAX_SEQ_LENGTH=100\n",
    "VALIDATION_SPLIT_RATIO= 0.2\n",
    "LSTM_UNITS=500"
   ]
  },
  {
   "cell_type": "code",
   "execution_count": 4,
   "metadata": {},
   "outputs": [
    {
     "name": "stdout",
     "output_type": "stream",
     "text": [
      "Num samples is 1000\n"
     ]
    }
   ],
   "source": [
    "# Where we will store the data\n",
    "input_texts = [] # sentence in original language\n",
    "target_texts = [] # sentence in target language\n",
    "target_texts_inputs = [] # sentence in target language offset by 1\n",
    "\n",
    "t = 0\n",
    "for line in open('./data/deu.txt', encoding='utf-8'):\n",
    "    t+=1\n",
    "    if t>MAX_SAMPLES :\n",
    "        break\n",
    "        \n",
    "    input_txt, target_txt = line.rstrip().split ('\\t')\n",
    "    \n",
    "    target_txt_input = '<sos> '+target_txt\n",
    "    target_txt = target_txt +' <eos>'\n",
    "    \n",
    "    input_texts.append (input_txt)\n",
    "    target_texts_inputs.append(target_txt_input)\n",
    "    target_texts.append(target_txt)\n",
    "    \n",
    "print ('Num samples is %d'%(len(input_texts)))"
   ]
  },
  {
   "cell_type": "code",
   "execution_count": 5,
   "metadata": {},
   "outputs": [
    {
     "name": "stdout",
     "output_type": "stream",
     "text": [
      "Max seq length of english sentences is 3\n",
      "Found 484 unique english words\n"
     ]
    }
   ],
   "source": [
    "en_tokenizer = tf.keras.preprocessing.text.Tokenizer(num_words=MAX_WORDS, oov_token=OOV_TOKEN, filters='')\n",
    "en_tokenizer.fit_on_texts(input_texts)\n",
    "en_word2Idx = en_tokenizer.word_index\n",
    "en_num_words = len(en_word2Idx)+1\n",
    "en_input_sequences = en_tokenizer.texts_to_sequences(input_texts)\n",
    "max_seq_len_en = min (MAX_SEQ_LENGTH, max(len(s) for s in en_input_sequences))\n",
    "padded_input_sequences = tf.keras.preprocessing.sequence.pad_sequences(en_input_sequences, padding='post', maxlen=max_seq_len_en)\n",
    "\n",
    "print ('Max seq length of english sentences is %d'%(max_seq_len_en))\n",
    "print ('Found %d unique english words'%(en_num_words))"
   ]
  },
  {
   "cell_type": "code",
   "execution_count": 6,
   "metadata": {},
   "outputs": [
    {
     "name": "stdout",
     "output_type": "stream",
     "text": [
      "Found 867 unique german words\n",
      "Max seq length of german target sentences is 8\n",
      "Max seq length of german target input sentences is 8\n"
     ]
    }
   ],
   "source": [
    "de_tokenizer = tf.keras.preprocessing.text.Tokenizer(num_words=MAX_WORDS, oov_token=OOV_TOKEN, filters='')\n",
    "de_tokenizer.fit_on_texts(target_texts+target_texts_inputs)\n",
    "de_word2Idx = de_tokenizer.word_index\n",
    "\n",
    "de_num_words = len(de_word2Idx)+1\n",
    "print ('Found %d unique german words'%(de_num_words))\n",
    "\n",
    "de_target_inputs_sequences = de_tokenizer.texts_to_sequences(target_texts_inputs) # this is for decoder input\n",
    "de_target_sequences = de_tokenizer.texts_to_sequences(target_texts) # this is for decoder output\n",
    "\n",
    "max_seq_len_target_inputs = min (MAX_SEQ_LENGTH, max(len(s) for s in de_target_inputs_sequences))\n",
    "max_seq_len_target = min (MAX_SEQ_LENGTH, max(len(s) for s in de_target_sequences))\n",
    "\n",
    "print ('Max seq length of german target sentences is %d'%(max_seq_len_target))\n",
    "print ('Max seq length of german target input sentences is %d'%(max_seq_len_target_inputs))\n",
    "\n",
    "padded_target_input_sequences = tf.keras.preprocessing.sequence.pad_sequences(de_target_inputs_sequences, padding='post', maxlen=max_seq_len_target_inputs)\n",
    "padded_target_sequences = tf.keras.preprocessing.sequence.pad_sequences(de_target_sequences, padding='post', maxlen=max_seq_len_target)\n",
    "\n",
    "assert ('<sos>' in de_word2Idx)"
   ]
  },
  {
   "cell_type": "code",
   "execution_count": 11,
   "metadata": {},
   "outputs": [
    {
     "name": "stdout",
     "output_type": "stream",
     "text": [
      "(1000, 8)\n",
      "[16 56  2  0  0  0  0  0]\n"
     ]
    }
   ],
   "source": [
    "print (padded_target_sequences.shape)\n",
    "print (padded_target_sequences[999])"
   ]
  },
  {
   "cell_type": "code",
   "execution_count": 12,
   "metadata": {},
   "outputs": [
    {
     "name": "stdout",
     "output_type": "stream",
     "text": [
      "(1000, 8, 867)\n"
     ]
    }
   ],
   "source": [
    "one_hot_targets = np.zeros((len(padded_target_sequences), max_seq_len_target, de_num_words),dtype='float32')\n",
    "print (one_hot_targets.shape)\n",
    "for i, seq in enumerate(padded_target_sequences):\n",
    "    for j, word in enumerate(seq):\n",
    "        if (word>0):\n",
    "            one_hot_targets[i,j,word]=1"
   ]
  },
  {
   "cell_type": "code",
   "execution_count": 13,
   "metadata": {},
   "outputs": [
    {
     "name": "stderr",
     "output_type": "stream",
     "text": [
      "WARNING: Logging before flag parsing goes to stderr.\n",
      "W0915 14:17:09.409158  9876 deprecation.py:506] From C:\\MachineLearning\\anaconda\\lib\\site-packages\\tensorflow\\python\\keras\\initializers.py:119: calling RandomUniform.__init__ (from tensorflow.python.ops.init_ops) with dtype is deprecated and will be removed in a future version.\n",
      "Instructions for updating:\n",
      "Call initializer instance with the dtype argument instead of passing it to the constructor\n"
     ]
    }
   ],
   "source": [
    "embed_layer = tf.keras.layers.Embedding(input_dim = en_num_words,\n",
    "                               output_dim = EMBEDDING_DIM,\n",
    "                               input_length=max_seq_len_en, \n",
    "                               trainable=True)"
   ]
  },
  {
   "cell_type": "code",
   "execution_count": 14,
   "metadata": {},
   "outputs": [
    {
     "name": "stderr",
     "output_type": "stream",
     "text": [
      "W0915 14:17:13.999695  9876 deprecation.py:506] From C:\\MachineLearning\\anaconda\\lib\\site-packages\\tensorflow\\python\\ops\\init_ops.py:1251: calling VarianceScaling.__init__ (from tensorflow.python.ops.init_ops) with dtype is deprecated and will be removed in a future version.\n",
      "Instructions for updating:\n",
      "Call initializer instance with the dtype argument instead of passing it to the constructor\n"
     ]
    }
   ],
   "source": [
    "##### build the encoder model #####\n",
    "encoder_input_ = tf.keras.layers.Input(shape=(max_seq_len_en))\n",
    "encoder_x = embed_layer(encoder_input_)\n",
    "encoder_lstm_layer_0 = tf.keras.layers.LSTM(units=LSTM_UNITS, return_sequences=True, return_state=True)\n",
    "encoder_x,h,c = encoder_lstm_layer_0(encoder_x)\n",
    "encoder_states = [h, c]"
   ]
  },
  {
   "cell_type": "code",
   "execution_count": 15,
   "metadata": {},
   "outputs": [],
   "source": [
    "##### build the decoder model #####\n",
    "decoder_input_ = tf.keras.layers.Input(shape=(max_seq_len_target_inputs))\n",
    "target_embed_layer = tf.keras.layers.Embedding(input_dim = de_num_words,\n",
    "                               output_dim = EMBEDDING_DIM,\n",
    "                               input_length=max_seq_len_target_inputs, \n",
    "                               trainable=True)\n",
    "decoder_x = target_embed_layer(decoder_input_)\n",
    "decoder_lstm_layer_0 = tf.keras.layers.LSTM(units=LSTM_UNITS, return_sequences=True, return_state=True)\n",
    "decoder_x,_,_ = decoder_lstm_layer_0(decoder_x, initial_state=encoder_states)\n",
    "decoder_dense = tf.keras.layers.Dense(de_num_words, activation='softmax')\n",
    "decoder_outputs = decoder_dense(tf.keras.layers.Dropout(rate=.3)(decoder_x))"
   ]
  },
  {
   "cell_type": "code",
   "execution_count": 16,
   "metadata": {},
   "outputs": [
    {
     "name": "stdout",
     "output_type": "stream",
     "text": [
      "Model: \"model\"\n",
      "__________________________________________________________________________________________________\n",
      "Layer (type)                    Output Shape         Param #     Connected to                     \n",
      "==================================================================================================\n",
      "input_1 (InputLayer)            [(None, 3)]          0                                            \n",
      "__________________________________________________________________________________________________\n",
      "input_2 (InputLayer)            [(None, 8)]          0                                            \n",
      "__________________________________________________________________________________________________\n",
      "embedding (Embedding)           (None, 3, 50)        24200       input_1[0][0]                    \n",
      "__________________________________________________________________________________________________\n",
      "embedding_1 (Embedding)         (None, 8, 50)        43350       input_2[0][0]                    \n",
      "__________________________________________________________________________________________________\n",
      "lstm (LSTM)                     [(None, 3, 250), (No 301000      embedding[0][0]                  \n",
      "__________________________________________________________________________________________________\n",
      "lstm_1 (LSTM)                   [(None, 8, 250), (No 301000      embedding_1[0][0]                \n",
      "                                                                 lstm[0][1]                       \n",
      "                                                                 lstm[0][2]                       \n",
      "__________________________________________________________________________________________________\n",
      "dropout (Dropout)               (None, 8, 250)       0           lstm_1[0][0]                     \n",
      "__________________________________________________________________________________________________\n",
      "dense (Dense)                   (None, 8, 867)       217617      dropout[0][0]                    \n",
      "==================================================================================================\n",
      "Total params: 887,167\n",
      "Trainable params: 887,167\n",
      "Non-trainable params: 0\n",
      "__________________________________________________________________________________________________\n"
     ]
    }
   ],
   "source": [
    "##### build the encoder-decoder model #####\n",
    "model = tf.keras.models.Model([encoder_input_, decoder_input_], decoder_outputs)\n",
    "model.compile (optimizer=tf.keras.optimizers.Adam(lr=0.01), loss='sparse_categorical_crossentropy', metrics=['accuracy'])\n",
    "model.summary()"
   ]
  },
  {
   "cell_type": "code",
   "execution_count": 17,
   "metadata": {},
   "outputs": [],
   "source": [
    "def train_input_fn(batch_size=1024):\n",
    "    # Convert the inputs to a Dataset.\n",
    "    dataset_ip = tf.data.Dataset.from_tensor_slices((padded_input_sequences, padded_target_input_sequences))\n",
    "    dataset_op = tf.data.Dataset.from_tensor_slices(one_hot_targets)\n",
    "    dataset = tf.data.Dataset.zip((dataset_ip, dataset_op))\n",
    "    \n",
    "    #dataset = tf.data.Dataset.from_tensor_slices(([padded_input_sequences,padded_target_input_sequences],one_hot_targets))\n",
    "# Shuffle, repeat, and batch the examples.\n",
    "    dataset = dataset.cache()\n",
    "    dataset = dataset.shuffle(1000, reshuffle_each_iteration=True)\n",
    "    dataset = dataset.repeat()\n",
    "    dataset = dataset.batch(batch_size, drop_remainder=True)\n",
    "# Return the dataset.\n",
    "    return dataset"
   ]
  },
  {
   "cell_type": "code",
   "execution_count": 18,
   "metadata": {},
   "outputs": [],
   "source": [
    "#tpu_model = tf.contrib.tpu.keras_to_tpu_model(\n",
    "#    model,\n",
    "#    strategy=tf.contrib.tpu.TPUDistributionStrategy(\n",
    "#        tf.contrib.cluster_resolver.TPUClusterResolver(TPU_ADDRESS)))"
   ]
  },
  {
   "cell_type": "code",
   "execution_count": 19,
   "metadata": {},
   "outputs": [],
   "source": [
    "#history = tpu_model.fit(\n",
    "#    train_input_fn,\n",
    "#    steps_per_epoch = 60,\n",
    "#    epochs=1,\n",
    "#)"
   ]
  },
  {
   "cell_type": "code",
   "execution_count": null,
   "metadata": {},
   "outputs": [],
   "source": [
    "padded_target_sequences = padded_target_sequences.reshape((padded_target_sequences.shape[0], padded_target_sequences.shape[1], 1))\n",
    "print (padded_target_sequences.shape)\n",
    "print (padded_target_sequences[0])\n",
    "#history = model.fit ([padded_input_sequences,padded_target_input_sequences], padded_target_sequences, batch_size=BATCH_SIZE, epochs=EPOCHS, validation_split=VALIDATION_SPLIT_RATIO)"
   ]
  },
  {
   "cell_type": "markdown",
   "metadata": {},
   "source": [
    "# Visualize the Training Metadata (Accuracy & Loss)"
   ]
  },
  {
   "cell_type": "code",
   "execution_count": null,
   "metadata": {},
   "outputs": [],
   "source": [
    "import matplotlib.pyplot as plt\n",
    "%matplotlib inline\n",
    "\n",
    "figure = plt.figure()\n",
    "\n",
    "ax1 = figure.add_subplot(211)\n",
    "ax1.plot(history.history['acc'])\n",
    "ax1.plot(history.history['val_acc'])\n",
    "plt.xlabel('Epochs')\n",
    "plt.ylabel('Accuracy')\n",
    "plt.legend(labels=['Training','Validation'])\n",
    "\n",
    "ax1 = figure.add_subplot(212)\n",
    "ax1.plot(history.history['loss'])\n",
    "ax1.plot(history.history['val_loss'])\n",
    "plt.xlabel('Epochs')\n",
    "plt.ylabel('Loss')\n",
    "plt.legend(labels=['Training','Validation'])\n",
    "\n",
    "plt.show()"
   ]
  },
  {
   "cell_type": "code",
   "execution_count": null,
   "metadata": {},
   "outputs": [],
   "source": [
    "# Save model\n",
    "model.save('s2s.h5')"
   ]
  },
  {
   "cell_type": "code",
   "execution_count": null,
   "metadata": {},
   "outputs": [],
   "source": [
    "##### Create Encoder Model for Inference ######\n",
    "encoder_model = tf.keras.models.Model(encoder_input_, encoder_states)\n",
    "\n",
    "decoder_state_input_h = tf.keras.layers.Input(shape=(LSTM_UNITS,))\n",
    "decoder_state_input_c = tf.keras.layers.Input(shape=(LSTM_UNITS,))\n",
    "decoder_states_inputs = [decoder_state_input_h, decoder_state_input_c]\n",
    "\n",
    "decoder_inputs_single = tf.keras.layers.Input(shape=(1,))\n",
    "decoder_inputs_single_x = target_embed_layer(decoder_inputs_single)\n",
    "decoder_ouput_single_x, h,c = decoder_lstm_layer_0(decoder_inputs_single_x, initial_state=decoder_states_inputs)\n",
    "decoder_states = [h, c]\n",
    "\n",
    "decoder_outputs = decoder_dense(decoder_ouput_single_x)\n",
    "\n",
    "decoder_model = tf.keras.models.Model(\n",
    "  [decoder_inputs_single] +decoder_states_inputs, \n",
    "  [decoder_outputs]+ decoder_states\n",
    ")\n",
    "\n",
    "# map indexes back into real words\n",
    "# so we can view the results\n",
    "idx2word_eng = {v:k for k, v in en_word2Idx.items()}\n",
    "idx2word_trans = {v:k for k, v in de_word2Idx.items()}"
   ]
  },
  {
   "cell_type": "code",
   "execution_count": null,
   "metadata": {},
   "outputs": [],
   "source": [
    "def decode_sequence(input_seq):\n",
    "    # Encode the input as state vectors.\n",
    "    encoder_states_value = encoder_model.predict(input_seq)\n",
    "    \n",
    "    # Generate empty target sequence of length 1.\n",
    "    target_seq = np.zeros((1, 1))\n",
    "    \n",
    "    target_seq[0, 0] = de_word2Idx['<sos>']\n",
    "    eos = de_word2Idx['<eos>']\n",
    "    output_sentence = []\n",
    "    for _ in range (len(de_target_inputs_sequences)):\n",
    "        output_tokens, h,c = decoder_model.predict([target_seq] +encoder_states_value)\n",
    "        \n",
    "        # Get next word\n",
    "        idx = np.argmax(output_tokens[0, 0, :])\n",
    "        if idx == eos:\n",
    "            print ('stopping...')\n",
    "            break\n",
    "\n",
    "        word = ''\n",
    "        if idx >0 :\n",
    "            word = idx2word_trans[idx]\n",
    "            output_sentence.append(word)\n",
    "        \n",
    "        target_seq[0, 0] = idx\n",
    "            \n",
    "        encoder_states_value = [h,c]\n",
    "    \n",
    "    return ' '.join(output_sentence)"
   ]
  },
  {
   "cell_type": "code",
   "execution_count": null,
   "metadata": {},
   "outputs": [],
   "source": [
    "i = np.random.choice(len(input_texts))\n",
    "input_seq = padded_input_sequences[i:i+1]\n",
    "print ('Input -', input_texts[i])\n",
    "translated = decode_sequence (input_seq)\n",
    "print ('Translated -', translated)"
   ]
  },
  {
   "cell_type": "code",
   "execution_count": null,
   "metadata": {},
   "outputs": [],
   "source": []
  }
 ],
 "metadata": {
  "kernelspec": {
   "display_name": "Python 3",
   "language": "python",
   "name": "python3"
  },
  "language_info": {
   "codemirror_mode": {
    "name": "ipython",
    "version": 3
   },
   "file_extension": ".py",
   "mimetype": "text/x-python",
   "name": "python",
   "nbconvert_exporter": "python",
   "pygments_lexer": "ipython3",
   "version": "3.7.3"
  }
 },
 "nbformat": 4,
 "nbformat_minor": 2
}
