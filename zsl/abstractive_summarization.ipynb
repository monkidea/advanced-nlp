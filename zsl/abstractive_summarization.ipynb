{
  "nbformat": 4,
  "nbformat_minor": 0,
  "metadata": {
    "colab": {
      "name": "abstractive-summarization.ipynb",
      "provenance": []
    },
    "kernelspec": {
      "name": "python3",
      "display_name": "Python 3"
    },
    "accelerator": "GPU"
  },
  "cells": [
    {
      "cell_type": "code",
      "metadata": {
        "id": "GlSW-G7eoFX_",
        "colab_type": "code",
        "colab": {
          "base_uri": "https://localhost:8080/",
          "height": 357
        },
        "outputId": "8028f953-bee1-41f1-ae98-b2500262f9c8"
      },
      "source": [
        "!nvidia-smi"
      ],
      "execution_count": 4,
      "outputs": [
        {
          "output_type": "stream",
          "text": [
            "Tue Aug 25 18:38:54 2020       \n",
            "+-----------------------------------------------------------------------------+\n",
            "| NVIDIA-SMI 450.57       Driver Version: 418.67       CUDA Version: 10.1     |\n",
            "|-------------------------------+----------------------+----------------------+\n",
            "| GPU  Name        Persistence-M| Bus-Id        Disp.A | Volatile Uncorr. ECC |\n",
            "| Fan  Temp  Perf  Pwr:Usage/Cap|         Memory-Usage | GPU-Util  Compute M. |\n",
            "|                               |                      |               MIG M. |\n",
            "|===============================+======================+======================|\n",
            "|   0  Tesla K80           Off  | 00000000:00:04.0 Off |                    0 |\n",
            "| N/A   32C    P8    28W / 149W |      0MiB / 11441MiB |      0%      Default |\n",
            "|                               |                      |                 ERR! |\n",
            "+-------------------------------+----------------------+----------------------+\n",
            "                                                                               \n",
            "+-----------------------------------------------------------------------------+\n",
            "| Processes:                                                                  |\n",
            "|  GPU   GI   CI        PID   Type   Process name                  GPU Memory |\n",
            "|        ID   ID                                                   Usage      |\n",
            "|=============================================================================|\n",
            "|  No running processes found                                                 |\n",
            "+-----------------------------------------------------------------------------+\n"
          ],
          "name": "stdout"
        }
      ]
    },
    {
      "cell_type": "code",
      "metadata": {
        "id": "whGyj5YroU5t",
        "colab_type": "code",
        "colab": {
          "base_uri": "https://localhost:8080/",
          "height": 666
        },
        "outputId": "0c6a1c5c-f5ff-48db-b0da-b15c296418b4"
      },
      "source": [
        "!pip install git+https://github.com/huggingface/transformers.git"
      ],
      "execution_count": 3,
      "outputs": [
        {
          "output_type": "stream",
          "text": [
            "Collecting git+https://github.com/huggingface/transformers.git\n",
            "  Cloning https://github.com/huggingface/transformers.git to /tmp/pip-req-build-i_o4qlz8\n",
            "  Running command git clone -q https://github.com/huggingface/transformers.git /tmp/pip-req-build-i_o4qlz8\n",
            "Requirement already satisfied: numpy in /usr/local/lib/python3.6/dist-packages (from transformers==3.0.2) (1.18.5)\n",
            "Collecting tokenizers==0.8.1.rc2\n",
            "\u001b[?25l  Downloading https://files.pythonhosted.org/packages/80/83/8b9fccb9e48eeb575ee19179e2bdde0ee9a1904f97de5f02d19016b8804f/tokenizers-0.8.1rc2-cp36-cp36m-manylinux1_x86_64.whl (3.0MB)\n",
            "\u001b[K     |████████████████████████████████| 3.0MB 6.6MB/s \n",
            "\u001b[?25hRequirement already satisfied: packaging in /usr/local/lib/python3.6/dist-packages (from transformers==3.0.2) (20.4)\n",
            "Requirement already satisfied: filelock in /usr/local/lib/python3.6/dist-packages (from transformers==3.0.2) (3.0.12)\n",
            "Requirement already satisfied: requests in /usr/local/lib/python3.6/dist-packages (from transformers==3.0.2) (2.23.0)\n",
            "Requirement already satisfied: tqdm>=4.27 in /usr/local/lib/python3.6/dist-packages (from transformers==3.0.2) (4.41.1)\n",
            "Requirement already satisfied: regex!=2019.12.17 in /usr/local/lib/python3.6/dist-packages (from transformers==3.0.2) (2019.12.20)\n",
            "Collecting sentencepiece!=0.1.92\n",
            "\u001b[?25l  Downloading https://files.pythonhosted.org/packages/d4/a4/d0a884c4300004a78cca907a6ff9a5e9fe4f090f5d95ab341c53d28cbc58/sentencepiece-0.1.91-cp36-cp36m-manylinux1_x86_64.whl (1.1MB)\n",
            "\u001b[K     |████████████████████████████████| 1.1MB 36.7MB/s \n",
            "\u001b[?25hCollecting sacremoses\n",
            "\u001b[?25l  Downloading https://files.pythonhosted.org/packages/7d/34/09d19aff26edcc8eb2a01bed8e98f13a1537005d31e95233fd48216eed10/sacremoses-0.0.43.tar.gz (883kB)\n",
            "\u001b[K     |████████████████████████████████| 890kB 42.3MB/s \n",
            "\u001b[?25hRequirement already satisfied: dataclasses in /usr/local/lib/python3.6/dist-packages (from transformers==3.0.2) (0.7)\n",
            "Requirement already satisfied: six in /usr/local/lib/python3.6/dist-packages (from packaging->transformers==3.0.2) (1.15.0)\n",
            "Requirement already satisfied: pyparsing>=2.0.2 in /usr/local/lib/python3.6/dist-packages (from packaging->transformers==3.0.2) (2.4.7)\n",
            "Requirement already satisfied: idna<3,>=2.5 in /usr/local/lib/python3.6/dist-packages (from requests->transformers==3.0.2) (2.10)\n",
            "Requirement already satisfied: certifi>=2017.4.17 in /usr/local/lib/python3.6/dist-packages (from requests->transformers==3.0.2) (2020.6.20)\n",
            "Requirement already satisfied: urllib3!=1.25.0,!=1.25.1,<1.26,>=1.21.1 in /usr/local/lib/python3.6/dist-packages (from requests->transformers==3.0.2) (1.24.3)\n",
            "Requirement already satisfied: chardet<4,>=3.0.2 in /usr/local/lib/python3.6/dist-packages (from requests->transformers==3.0.2) (3.0.4)\n",
            "Requirement already satisfied: click in /usr/local/lib/python3.6/dist-packages (from sacremoses->transformers==3.0.2) (7.1.2)\n",
            "Requirement already satisfied: joblib in /usr/local/lib/python3.6/dist-packages (from sacremoses->transformers==3.0.2) (0.16.0)\n",
            "Building wheels for collected packages: transformers, sacremoses\n",
            "  Building wheel for transformers (setup.py) ... \u001b[?25l\u001b[?25hdone\n",
            "  Created wheel for transformers: filename=transformers-3.0.2-cp36-none-any.whl size=873359 sha256=2bb565c228ddfe4fd9e20c7f40a69280decc1f27c016f61f88cf2f3517ed35b1\n",
            "  Stored in directory: /tmp/pip-ephem-wheel-cache-336q0g7t/wheels/33/eb/3b/4bf5dd835e865e472d4fc0754f35ac0edb08fe852e8f21655f\n",
            "  Building wheel for sacremoses (setup.py) ... \u001b[?25l\u001b[?25hdone\n",
            "  Created wheel for sacremoses: filename=sacremoses-0.0.43-cp36-none-any.whl size=893257 sha256=98eb393cdb4b121a8b86a3466b42d94f265a9a3146331e9f272b4c5b1282acb0\n",
            "  Stored in directory: /root/.cache/pip/wheels/29/3c/fd/7ce5c3f0666dab31a50123635e6fb5e19ceb42ce38d4e58f45\n",
            "Successfully built transformers sacremoses\n",
            "Installing collected packages: tokenizers, sentencepiece, sacremoses, transformers\n",
            "Successfully installed sacremoses-0.0.43 sentencepiece-0.1.91 tokenizers-0.8.1rc2 transformers-3.0.2\n"
          ],
          "name": "stdout"
        }
      ]
    },
    {
      "cell_type": "code",
      "metadata": {
        "id": "_4ZhJZOEoHWp",
        "colab_type": "code",
        "colab": {}
      },
      "source": [
        "import torch\n",
        "import json\n",
        "from transformers import T5Tokenizer, T5PreTrainedModel, T5Config, T5ForConditionalGeneration"
      ],
      "execution_count": 5,
      "outputs": []
    },
    {
      "cell_type": "code",
      "metadata": {
        "id": "DGG3NXyuoOCo",
        "colab_type": "code",
        "colab": {
          "base_uri": "https://localhost:8080/",
          "height": 34
        },
        "outputId": "3e0dd72d-81dd-4ac4-9137-21991ce0b34a"
      },
      "source": [
        "device = torch.device('cuda' if torch.cuda.is_available() else 'cpu')\n",
        "print (device)\n",
        "model = T5ForConditionalGeneration.from_pretrained('t5-large').to(device)\n",
        "tokenizer = T5Tokenizer.from_pretrained('t5-large')"
      ],
      "execution_count": 6,
      "outputs": [
        {
          "output_type": "stream",
          "text": [
            "cuda\n"
          ],
          "name": "stdout"
        }
      ]
    },
    {
      "cell_type": "code",
      "metadata": {
        "id": "WJHzn5JSxkxc",
        "colab_type": "code",
        "colab": {
          "base_uri": "https://localhost:8080/",
          "height": 34
        },
        "outputId": "42a90699-1dc4-447b-b326-86d15f1aaed2"
      },
      "source": [
        "text = \"\"\"\n",
        "Fixed income refers to any type of investment under which the borrower or issuer is obliged to make payments of a fixed amount on a fixed schedule. For example, the borrower may have to pay interest at a fixed rate once a year, and to repay the principal amount on maturity. Fixed-income securities can be contrasted with equity securities – often referred to as stocks and shares – that create no obligation to pay dividends or any other form of income.\n",
        "\n",
        "In order for a company to grow its business, it often must raise money – for example, to finance an acquisition; to buy equipment or land; or to invest in new product development. The terms on which investors will finance the company will depend on the risk profile of the company. The company can give up equity by issuing stock, or can promise to pay regular interest and repay the principal on the loan (bonds or bank loans). Fixed-income securities also trade differently than equities. Whereas equities, such as common stock, trade on exchanges or other established trading venues, many fixed-income securities trade over-the-counter on a principal basis.[1]\n",
        "\n",
        "The term \"fixed\" in \"fixed income\" refers to both the schedule of obligatory payments and the amount. \"Fixed income securities\" can be distinguished from inflation-indexed bonds, variable-interest rate notes, and the like. If an issuer misses a payment on a fixed income security, the issuer is in default, and depending on the relevant law and the structure of the security, the payees may be able to force the issuer into bankruptcy. In contrast, if a company misses a quarterly dividend to stock (non-fixed-income) shareholders, there is no violation of any payment covenant, and no default.\n",
        "\n",
        "The term \"fixed income\" is also applied to a person's income that does not vary materially over time. This can include income derived from fixed-income investments such as bonds and preferred stocks or pensions that guarantee a fixed income. When pensioners or retirees are dependent on their pension as their dominant source of income, the term \"fixed income\" can also carry the implication that they have relatively limited discretionary income or have little financial freedom to make large or discretionary expenditures.\n",
        "\n",
        "\n",
        "Contents\n",
        "1\tTypes of borrowers\n",
        "2\tTerminology\n",
        "3\tInvestors\n",
        "4\tPricing factors\n",
        "5\tInflation-linked bonds\n",
        "6\tDerivatives\n",
        "7\tRisks\n",
        "8\tSee also\n",
        "9\tReferences\n",
        "10\tExternal links\n",
        "Types of borrowers\n",
        "Governments issue government bonds in their own currency and sovereign bonds in foreign currencies. State and local governments issue municipal bonds to finance projects or other major spending initiatives. Debt issued by government-backed agencies is called an agency bond. Companies can issue a corporate bond or obtain money from a bank through a corporate loan. Preferred stocks share some of the characteristics of fixed interest bonds. Securitized bank lending (e.g., credit card debt, car loans or mortgages) can be structured into other types of fixed income products such as ABS – asset-backed securities which can be traded on exchanges just like corporate and government bonds.\n",
        "\n",
        "Terminology\n",
        "Some of the terminology used in connection with these investments is:\n",
        "\n",
        "The issuer is the entity (company or government) who borrows the money by issuing the bond, and is due to pay interest and repay capital in due course.\n",
        "The principal of a bond – also known as maturity value, face value, par value – is the amount that the issuer borrows which must be repaid to the lender.[2]\n",
        "The coupon (of a bond) is the annual interest that the issuer must pay, expressed as a percentage of the principal.\n",
        "The maturity is the end of the bond, the date that the issuer must return the principal.\n",
        "The issue is another term for the bond itself.\n",
        "The indenture, in some cases, is the contract that states all of the terms of the bond.\n",
        "Investors\n",
        "Investors in fixed-income securities are typically looking for a constant and secure return on their investment. For example, a retired person might like to receive a regular dependable payment to live on like gratuity, but not consume principal. This person can buy a bond with their money, and use the coupon payment (the interest) as that regular dependable payment. When the bond matures or is refinanced, the person will have their money returned to them. The major investors in fixed-income securities are institutional investors, such as pension plans, mutual funds, insurance companies and others.[3]\n",
        "\n",
        "Pricing factors\n",
        "The main number which is used to assess the value of the bond is the gross redemption yield. This is defined such that if all future interest and principal repayments are discounted back to the present, at an interest rate equal to the gross redemption yield (gross means pre-tax), then the discounted value is equal to the current market price of the bond (or the initial issue price if the bond is just being launched). Fixed income investments such as bonds and loans are generally priced as a credit spread above a low-risk reference rate, such as LIBOR or U.S. or German Government Bonds of the same duration. For example, if a 30-year mortgage denominated in US dollars has a gross redemption yield of 5% per annum and 30 year US Treasury Bonds have a gross redemption yield of 3% per annum (referred to as the risk free yield), the credit spread is 2% per annum (sometimes quoted as 200 basis points). The credit spread reflects the risk of default. Risk free interest rates are determined by market forces and vary over time, based on a variety of factors, such as current short-term interest rates, e.g. base rates set by central banks such as the US Federal Reserve, the Bank of England in the UK, and the Euro Zone ECB. If the coupon on the bond is lower than the yield, then its price will be below the par value, and vice versa.\n",
        "\n",
        "In buying a bond, one is buying a set of cash flows, which are discounted according to the buyer's perception of how interest and exchange rates will move over its life.\n",
        "\n",
        "Supply and demand affect prices, especially in the case of market participants who are constrained in the investments they make. Insurance companies and pension funds usually have long term liabilities that they wish to hedge, which requires low risk, predictable cash flows, such as long dated government bonds.\n",
        "\n",
        "Some fixed-income securities, such as mortgage-backed securities, have unique characteristics, such as prepayments, which impact their pricing.[4]\n",
        "\n",
        "Inflation-linked bonds\n",
        "There are also inflation-indexed bonds, fixed-income securities linked to a specific price index. The most common examples are US Treasury Inflation Protected Securities (TIPS) and UK Index Linked Gilts. The interest and principal repayments under this type of bond are adjusted in line with a Consumer Price Index (in the US this is the CPI-U for urban consumers). This means that these bonds are guaranteed to outperform the inflation rate (unless (a) the market price has increased so that the \"real\" yield is negative, which is the case in 2012 for many such UK bonds, or (b) the government or other issuer defaults on the bond). This allows investors of all types to preserve the purchasing power of their money even at times of high inflation. For example, assuming 3.88% inflation over the course of 1 year (just about the 56 year average inflation rate, through most of 2006), and a real yield of 2.61% (the fixed US Treasury real yield on October 19, 2006, for a 5 yr TIPS), the adjusted principal of the fixed income would rise from 100 to 103.88 and then the real yield would be applied to the adjusted principal, meaning 103.88 x 1.0261, which equals 106.5913; giving a total return of 6.5913%. TIPS moderately outperform conventional US Treasuries, which yielded just 5.05% for a 1 yr bill on October 19, 2006.\n",
        "\n",
        "Derivatives\n",
        "Fixed income derivatives include interest rate derivatives and credit derivatives. Often inflation derivatives are also included into this definition. There is a wide range of fixed income derivative products: options, swaps, futures contracts as well as forward contracts. The most widely traded kinds are:\n",
        "\n",
        "Credit default swaps\n",
        "Interest rate swaps\n",
        "Inflation swaps\n",
        "Bond futures on 2/10/30-year government bonds\n",
        "Interest rate futures on 90-day interbank interest rates\n",
        "Forward rate agreements\n",
        "Risks\n",
        "Fixed income securities have risks that may include but are not limited to the following, many of which are synonymous, mutually exclusive, or related:\n",
        "\n",
        "inflation risk – that the buying power of the principal and interest payments will decline during the term of the security\n",
        "interest rate risk – that overall interest rates will change from the levels available when the security is sold, causing an opportunity cost\n",
        "currency risk – that exchange rates with other currencies will change during the security's term, causing loss of buying power in other countries\n",
        "default risk – that the issuer will be unable to pay the scheduled interest payments or principal repayment due to financial hardship or otherwise\n",
        "reinvestment risk – that the purchaser will be unable to purchase another security of similar return upon the expiration of the current security\n",
        "liquidity risk – that the buyer will require the principal funds for another purpose on short notice, prior to the expiration of the security, and be unable to exchange the security for cash in the required time period without loss of fair value\n",
        "duration risk\n",
        "convexity risk\n",
        "credit quality risk\n",
        "political risk – that governmental actions will cause the owner to lose the benefits of the security\n",
        "tax adjustment risk\n",
        "market risk – the risk of market-wide changes affecting the value of the security\n",
        "event risk – the risk that externalities will cause the owner to lose the benefits of the security\"\"\"\n",
        "\n",
        "len_summary_text = len(text.split())/2\n",
        "print (len_summary_text)"
      ],
      "execution_count": 28,
      "outputs": [
        {
          "output_type": "stream",
          "text": [
            "805.0\n"
          ],
          "name": "stdout"
        }
      ]
    },
    {
      "cell_type": "code",
      "metadata": {
        "id": "gFmF-PNnyqRr",
        "colab_type": "code",
        "colab": {
          "base_uri": "https://localhost:8080/",
          "height": 68
        },
        "outputId": "2d379d25-90ca-42fa-b515-616d7089079b"
      },
      "source": [
        "import nltk.data\n",
        "nltk.download('punkt')\n",
        "nltk_tokenizer = nltk.data.load('tokenizers/punkt/english.pickle')\n",
        "sentences = nltk_tokenizer.tokenize(text)\n",
        "\n",
        "chunks=[]\n",
        "chunk=\"summarize: \"\n",
        "\n",
        "for s in sentences:  \n",
        "  s = s.strip().replace(\"\\n\",\" \")  \n",
        "  tmp = chunk+s\n",
        "  if (len(tmp.split()) >350):\n",
        "    chunks.append(chunk)\n",
        "    chunk='summarize: '+s\n",
        "  else:\n",
        "    chunk=chunk+s\n",
        "chunks.append(chunk)    \n",
        "print ('input broken in %d chunks'%len(chunks))\n"
      ],
      "execution_count": 29,
      "outputs": [
        {
          "output_type": "stream",
          "text": [
            "[nltk_data] Downloading package punkt to /root/nltk_data...\n",
            "[nltk_data]   Package punkt is already up-to-date!\n",
            "input broken in 5 chunks\n"
          ],
          "name": "stdout"
        }
      ]
    },
    {
      "cell_type": "code",
      "metadata": {
        "id": "mSSeVoXIozGX",
        "colab_type": "code",
        "colab": {
          "base_uri": "https://localhost:8080/",
          "height": 102
        },
        "outputId": "a8210243-0946-437c-c6a6-235c01eb8fa5"
      },
      "source": [
        "import time\n",
        "\n",
        "final_summary = ''\n",
        "for c in chunks:\n",
        "  t0=time.time()\n",
        "  tokenized_text = tokenizer.encode(c, return_tensors='pt').to(device)\n",
        "\n",
        "  summary_ids = model.generate(tokenized_text, \n",
        "                num_beams=10,\n",
        "                no_repeat_ngram_size=2,\n",
        "                min_length=30,\n",
        "                max_length=100,\n",
        "                early_stopping=True)\n",
        "\n",
        "  summary = tokenizer.decode(summary_ids[0], skip_special_tokens=True)\n",
        "  final_summary+=summary\n",
        "\n",
        "  t1=time.time()\n",
        "  print ('time taken %s(seconds)'%(t1-t0))"
      ],
      "execution_count": 30,
      "outputs": [
        {
          "output_type": "stream",
          "text": [
            "time taken 13.34726357460022(seconds)\n",
            "time taken 12.403737545013428(seconds)\n",
            "time taken 9.36383318901062(seconds)\n",
            "time taken 9.737719774246216(seconds)\n",
            "time taken 11.482193946838379(seconds)\n"
          ],
          "name": "stdout"
        }
      ]
    },
    {
      "cell_type": "code",
      "metadata": {
        "id": "7e8K0hRn9iE9",
        "colab_type": "code",
        "colab": {
          "base_uri": "https://localhost:8080/",
          "height": 120
        },
        "outputId": "07a949b5-289c-420b-8419-d1fb3f2eeaf8"
      },
      "source": [
        "final_summary"
      ],
      "execution_count": 31,
      "outputs": [
        {
          "output_type": "execute_result",
          "data": {
            "application/vnd.google.colaboratory.intrinsic+json": {
              "type": "string"
            },
            "text/plain": [
              "'fixed income refers to any type of investment under which the borrower or issuer is obliged to make payments of a fixed amount. fixed-income securities can be contrasted with equity securities that create no obligation to pay dividends or any other form of income.when pensioners or retirees are dependent on their pension as their dominant source of income, the term \"fixed income\" can carry the implication that they have limited financial freedom to make large or discretionary expenditures. investors in fixed-income securities are typically looking for a constant and secure return.major investors in fixed-income securities are institutional investors, such as pension plans, mutual funds, insurance companies and others. the main number which is used to assess the value of the bond is the gross redemption yield. if the coupon is lower than the yield, then its price will be below the par value, and vice versa.inflation-indexed bonds, fixed-income securities linked to a specific price index. bonds guaranteed to outperform the inflation rate (unless the market price has increased) fixed income derivative products: options, swaps, futures contracts as well as forward contracts.fixed income securities have risks that may include inflation risk, interest rate risk. buying power of principal and interest payments will decline during the term of the security, says robert w. mcdonald, cnn\\'s daniel taylor.'"
            ]
          },
          "metadata": {
            "tags": []
          },
          "execution_count": 31
        }
      ]
    },
    {
      "cell_type": "code",
      "metadata": {
        "id": "j8aK4EuKpyUZ",
        "colab_type": "code",
        "colab": {
          "base_uri": "https://localhost:8080/",
          "height": 272
        },
        "outputId": "d06a53d3-ab95-4c88-d5e2-cee482a7b1ae"
      },
      "source": [
        "import textwrap \n",
        "# Wrap this text. \n",
        "wrapper = textwrap.TextWrapper(width=100) \n",
        "wrapper.wrap(text=final_summary) "
      ],
      "execution_count": 32,
      "outputs": [
        {
          "output_type": "execute_result",
          "data": {
            "text/plain": [
              "['fixed income refers to any type of investment under which the borrower or issuer is obliged to make',\n",
              " 'payments of a fixed amount. fixed-income securities can be contrasted with equity securities that',\n",
              " 'create no obligation to pay dividends or any other form of income.when pensioners or retirees are',\n",
              " 'dependent on their pension as their dominant source of income, the term \"fixed income\" can carry the',\n",
              " 'implication that they have limited financial freedom to make large or discretionary expenditures.',\n",
              " 'investors in fixed-income securities are typically looking for a constant and secure return.major',\n",
              " 'investors in fixed-income securities are institutional investors, such as pension plans, mutual',\n",
              " 'funds, insurance companies and others. the main number which is used to assess the value of the bond',\n",
              " 'is the gross redemption yield. if the coupon is lower than the yield, then its price will be below',\n",
              " 'the par value, and vice versa.inflation-indexed bonds, fixed-income securities linked to a specific',\n",
              " 'price index. bonds guaranteed to outperform the inflation rate (unless the market price has',\n",
              " 'increased) fixed income derivative products: options, swaps, futures contracts as well as forward',\n",
              " 'contracts.fixed income securities have risks that may include inflation risk, interest rate risk.',\n",
              " 'buying power of principal and interest payments will decline during the term of the security, says',\n",
              " \"robert w. mcdonald, cnn's daniel taylor.\"]"
            ]
          },
          "metadata": {
            "tags": []
          },
          "execution_count": 32
        }
      ]
    },
    {
      "cell_type": "code",
      "metadata": {
        "id": "R8VASlgq7tiN",
        "colab_type": "code",
        "colab": {}
      },
      "source": [
        ""
      ],
      "execution_count": null,
      "outputs": []
    }
  ]
}