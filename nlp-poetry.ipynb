{
 "cells": [
  {
   "cell_type": "code",
   "execution_count": 1,
   "metadata": {},
   "outputs": [
    {
     "name": "stderr",
     "output_type": "stream",
     "text": [
      "'wget' is not recognized as an internal or external command,\n",
      "operable program or batch file.\n",
      "'unzip' is not recognized as an internal or external command,\n",
      "operable program or batch file.\n"
     ]
    }
   ],
   "source": [
    "!wget http://nlp.stanford.edu/data/glove.6B.zip\n",
    "!unzip glove*.zip"
   ]
  },
  {
   "cell_type": "code",
   "execution_count": 2,
   "metadata": {},
   "outputs": [],
   "source": [
    "import pandas as pd\n",
    "import numpy as np\n",
    "import matplotlib.pyplot as plt\n",
    "import tensorflow as tf\n",
    "import os"
   ]
  },
  {
   "cell_type": "markdown",
   "metadata": {},
   "source": [
    "#### Load GloVe embeddings"
   ]
  },
  {
   "cell_type": "code",
   "execution_count": 3,
   "metadata": {},
   "outputs": [
    {
     "name": "stdout",
     "output_type": "stream",
     "text": [
      "Found 400000 word embeddings\n"
     ]
    }
   ],
   "source": [
    "embeddings_index = {}\n",
    "\n",
    "f = open ('glove.6B.100d.txt','r', encoding='utf-8')\n",
    "for line in f:\n",
    "    values = line.split()\n",
    "    word = values[0]\n",
    "    coefs = np.asarray(values[1:])\n",
    "    embeddings_index[word]=coefs\n",
    "\n",
    "f.close()\n",
    "print ('Found %s word embeddings'%(len(embeddings_index)))"
   ]
  },
  {
   "cell_type": "markdown",
   "metadata": {},
   "source": [
    "### Load comments"
   ]
  },
  {
   "cell_type": "code",
   "execution_count": 4,
   "metadata": {},
   "outputs": [],
   "source": [
    "input_texts = []\n",
    "target_texts = []\n",
    "\n",
    "for line in open('./data/poetry/robert_frost.txt'):\n",
    "    line = line.rstrip()\n",
    "    input_line = '<sos> '+line\n",
    "    target_line = line+' <eos>'\n",
    "    input_texts.append(input_line)\n",
    "    target_texts.append(target_line)\n",
    "    \n",
    "all_lines = input_texts + target_texts"
   ]
  },
  {
   "cell_type": "code",
   "execution_count": 5,
   "metadata": {},
   "outputs": [],
   "source": [
    "MAX_WORDS=20000\n",
    "BATCH_SIZE=122\n",
    "EPOCHS=500\n",
    "OOV_TOKEN=0\n",
    "EMBEDDING_DIM = 100\n",
    "MAX_SEQ_LENGTH=100\n",
    "VALIDATION_SPLIT_RATIO= 0.2\n",
    "LSTM_UNITS=500"
   ]
  },
  {
   "cell_type": "markdown",
   "metadata": {},
   "source": [
    "### Tokenize comments"
   ]
  },
  {
   "cell_type": "code",
   "execution_count": 6,
   "metadata": {},
   "outputs": [
    {
     "name": "stdout",
     "output_type": "stream",
     "text": [
      "Found 3057 unique words\n",
      "1374\n",
      "Found 1581 input sequences\n",
      "Found 1581 output sequences\n",
      "max seq length is 12\n",
      "Created 1581 padded input sequences\n",
      "Created 1581 padded target sequences\n"
     ]
    }
   ],
   "source": [
    "tokenizer = tf.keras.preprocessing.text.Tokenizer(num_words=MAX_WORDS, oov_token=OOV_TOKEN, filters='')\n",
    "tokenizer.fit_on_texts(all_lines)\n",
    "word2Idx = tokenizer.word_index\n",
    "\n",
    "print ('Found %d unique words'%(len(word2Idx)))\n",
    "print (word2Idx['girl'])\n",
    "\n",
    "input_sequences = tokenizer.texts_to_sequences(input_texts)\n",
    "target_sequences = tokenizer.texts_to_sequences(target_texts)\n",
    "print ('Found %d input sequences'%(len(input_sequences)))\n",
    "print ('Found %d output sequences'%(len(target_sequences)))\n",
    "\n",
    "max_seq_len_from_data = min (MAX_SEQ_LENGTH, max(len(s) for s in input_sequences))\n",
    "print ('max seq length is %d'%(max_seq_len_from_data))\n",
    "\n",
    "padded_input_sequences = tf.keras.preprocessing.sequence.pad_sequences(input_sequences, padding='post', maxlen=max_seq_len_from_data)\n",
    "padded_target_sequences = tf.keras.preprocessing.sequence.pad_sequences(target_sequences, padding='post', maxlen=max_seq_len_from_data)\n",
    "\n",
    "print ('Created %d padded input sequences'%(len(padded_input_sequences)))\n",
    "print ('Created %d padded target sequences'%(len(padded_target_sequences)))\n",
    "\n",
    "assert ('<sos>' in word2Idx)\n",
    "assert ('<eos>' in word2Idx)"
   ]
  },
  {
   "cell_type": "code",
   "execution_count": 7,
   "metadata": {},
   "outputs": [
    {
     "name": "stdout",
     "output_type": "stream",
     "text": [
      "Min words to be considered are 3058\n",
      "(3058, 100)\n"
     ]
    }
   ],
   "source": [
    "num_words = min (MAX_WORDS, len(word2Idx)+1)\n",
    "print ('Min words to be considered are %d'%(num_words))\n",
    "\n",
    "loaded_embeddings_matrix = np.zeros((num_words, EMBEDDING_DIM))\n",
    "\n",
    "for word, i in word2Idx.items():\n",
    "    if (i<num_words):\n",
    "        if word in embeddings_index.keys():\n",
    "            embedding_vector = embeddings_index[word]\n",
    "            loaded_embeddings_matrix[i] = embedding_vector\n",
    "\n",
    "print (loaded_embeddings_matrix.shape)"
   ]
  },
  {
   "cell_type": "code",
   "execution_count": 8,
   "metadata": {
    "scrolled": false
   },
   "outputs": [
    {
     "name": "stdout",
     "output_type": "stream",
     "text": [
      "[105 538 539  10   8 540 541   3   0   0   0   0]\n",
      "[  6 542   7  66  32 935 142   3   0   0   0   0]\n",
      "[  6  28  25 936 153   7 222   3   0   0   0   0]\n",
      "[  6 168  68  25  18 129  18   7  66   3   0   0]\n"
     ]
    }
   ],
   "source": [
    "for i, seq in enumerate(padded_target_sequences):\n",
    "    print (seq)\n",
    "    if (i>2):\n",
    "        break"
   ]
  },
  {
   "cell_type": "markdown",
   "metadata": {},
   "source": [
    "### Important Step:\n",
    "\n",
    "If we look at this problem statement, we have a set of input sequences and corresponding target sequences.\n",
    "\n",
    "Input Seq (T*D)-> Target Seq (T'*D')\n",
    "\n",
    "    T -> number of input sequences\n",
    "    D -> length of each input sequence\n",
    "\n",
    "    T' -> number of target sequences\n",
    "    D' -> length of each target sequence.\n",
    "\n",
    "In a seq2seq scenario the target value needs to be one-hot encoded and that's what we are doing below."
   ]
  },
  {
   "cell_type": "code",
   "execution_count": 9,
   "metadata": {},
   "outputs": [
    {
     "name": "stdout",
     "output_type": "stream",
     "text": [
      "(1581, 12, 3058)\n"
     ]
    }
   ],
   "source": [
    "one_hot_targets = np.zeros((len(target_sequences), max_seq_len_from_data, num_words))\n",
    "print (one_hot_targets.shape)\n",
    "for i, seq in enumerate(padded_target_sequences):\n",
    "    for j, word in enumerate(seq):\n",
    "        if (word>0):\n",
    "            one_hot_targets[i,j,word]=1"
   ]
  },
  {
   "cell_type": "markdown",
   "metadata": {},
   "source": [
    "### Build Model"
   ]
  },
  {
   "cell_type": "code",
   "execution_count": 10,
   "metadata": {},
   "outputs": [],
   "source": [
    "embed_layer = tf.keras.layers.Embedding(input_dim = num_words,\n",
    "                               output_dim = EMBEDDING_DIM,\n",
    "                               input_length=max_seq_len_from_data, \n",
    "                               embeddings_initializer=tf.keras.initializers.Constant(loaded_embeddings_matrix),\n",
    "                               trainable=True)"
   ]
  },
  {
   "cell_type": "code",
   "execution_count": 11,
   "metadata": {},
   "outputs": [
    {
     "name": "stderr",
     "output_type": "stream",
     "text": [
      "WARNING: Logging before flag parsing goes to stderr.\n",
      "W0914 00:37:55.884897 13104 deprecation.py:506] From C:\\MachineLearning\\anaconda\\lib\\site-packages\\tensorflow\\python\\ops\\init_ops.py:1251: calling VarianceScaling.__init__ (from tensorflow.python.ops.init_ops) with dtype is deprecated and will be removed in a future version.\n",
      "Instructions for updating:\n",
      "Call initializer instance with the dtype argument instead of passing it to the constructor\n"
     ]
    },
    {
     "name": "stdout",
     "output_type": "stream",
     "text": [
      "Model: \"model\"\n",
      "__________________________________________________________________________________________________\n",
      "Layer (type)                    Output Shape         Param #     Connected to                     \n",
      "==================================================================================================\n",
      "input_1 (InputLayer)            [(None, 12)]         0                                            \n",
      "__________________________________________________________________________________________________\n",
      "embedding (Embedding)           (None, 12, 100)      305800      input_1[0][0]                    \n",
      "__________________________________________________________________________________________________\n",
      "lstm (LSTM)                     [(None, 12, 500), (N 1202000     embedding[0][0]                  \n",
      "__________________________________________________________________________________________________\n",
      "input_2 (InputLayer)            [(None, 500)]        0                                            \n",
      "__________________________________________________________________________________________________\n",
      "input_3 (InputLayer)            [(None, 500)]        0                                            \n",
      "__________________________________________________________________________________________________\n",
      "dense (Dense)                   (None, 12, 3058)     1532058     lstm[0][0]                       \n",
      "==================================================================================================\n",
      "Total params: 3,039,858\n",
      "Trainable params: 3,039,858\n",
      "Non-trainable params: 0\n",
      "__________________________________________________________________________________________________\n"
     ]
    }
   ],
   "source": [
    "input_ = tf.keras.layers.Input(shape=(max_seq_len_from_data))\n",
    "initial_h = tf.keras.layers.Input(shape=(LSTM_UNITS,))\n",
    "initial_c = tf.keras.layers.Input(shape=(LSTM_UNITS,))\n",
    "\n",
    "x = embed_layer(input_)\n",
    "\n",
    "lstm_layer_0 = tf.keras.layers.LSTM(units=LSTM_UNITS, return_sequences=True, return_state=True)\n",
    "x,_,_ = lstm_layer_0(x)\n",
    "\n",
    "#stm_layer_1 = tf.keras.layers.LSTM(units=LSTM_UNITS, return_sequences=True, return_state=True)\n",
    "#x,_,_ = lstm_layer_1(x)\n",
    "\n",
    "dense_layer = tf.keras.layers.Dense(num_words, activation='softmax')\n",
    "output = dense_layer(x)\n",
    "\n",
    "model = tf.keras.models.Model([input_, initial_h, initial_c], output)\n",
    "\n",
    "model.compile (optimizer=tf.keras.optimizers.Adam(lr=0.01), loss='categorical_crossentropy', metrics=['accuracy'])\n",
    "model.summary()"
   ]
  },
  {
   "cell_type": "code",
   "execution_count": 12,
   "metadata": {},
   "outputs": [
    {
     "name": "stderr",
     "output_type": "stream",
     "text": [
      "W0914 00:37:56.228919 13104 deprecation.py:323] From C:\\MachineLearning\\anaconda\\lib\\site-packages\\tensorflow\\python\\ops\\math_grad.py:1250: add_dispatch_support.<locals>.wrapper (from tensorflow.python.ops.array_ops) is deprecated and will be removed in a future version.\n",
      "Instructions for updating:\n",
      "Use tf.where in 2.0, which has the same broadcast rule as np.where\n"
     ]
    },
    {
     "name": "stdout",
     "output_type": "stream",
     "text": [
      "Train on 1264 samples, validate on 317 samples\n",
      "1264/1264 [==============================] - 9s 7ms/sample - loss: 4.7269 - acc: 0.0708 - val_loss: 4.8074 - val_acc: 0.0904\n"
     ]
    }
   ],
   "source": [
    "h = np.zeros((len(padded_input_sequences),LSTM_UNITS))\n",
    "c = np.zeros((len(padded_input_sequences),LSTM_UNITS))\n",
    "history = model.fit ([padded_input_sequences,h,c], one_hot_targets, batch_size=BATCH_SIZE, epochs=EPOCHS, validation_split=VALIDATION_SPLIT_RATIO)"
   ]
  },
  {
   "cell_type": "markdown",
   "metadata": {},
   "source": [
    "# Visualize the Training Metadata (Accuracy & Loss)"
   ]
  },
  {
   "cell_type": "code",
   "execution_count": 13,
   "metadata": {},
   "outputs": [
    {
     "data": {
      "image/png": "[encoded data removed]",
      "text/plain": [
       "<Figure size 432x288 with 2 Axes>"
      ]
     },
     "metadata": {
      "needs_background": "light"
     },
     "output_type": "display_data"
    }
   ],
   "source": [
    "import matplotlib.pyplot as plt\n",
    "%matplotlib inline\n",
    "\n",
    "figure = plt.figure()\n",
    "\n",
    "ax1 = figure.add_subplot(211)\n",
    "ax1.plot(history.history['acc'])\n",
    "ax1.plot(history.history['val_acc'])\n",
    "plt.xlabel('Epochs')\n",
    "plt.ylabel('Accuracy')\n",
    "plt.legend(labels=['Training','Validation'])\n",
    "\n",
    "ax1 = figure.add_subplot(212)\n",
    "ax1.plot(history.history['loss'])\n",
    "ax1.plot(history.history['val_loss'])\n",
    "plt.xlabel('Epochs')\n",
    "plt.ylabel('Loss')\n",
    "plt.legend(labels=['Training','Validation'])\n",
    "\n",
    "plt.show()"
   ]
  },
  {
   "cell_type": "markdown",
   "metadata": {},
   "source": [
    "### Prediction Model"
   ]
  },
  {
   "cell_type": "code",
   "execution_count": 14,
   "metadata": {},
   "outputs": [
    {
     "name": "stdout",
     "output_type": "stream",
     "text": [
      "Model: \"model_1\"\n",
      "__________________________________________________________________________________________________\n",
      "Layer (type)                    Output Shape         Param #     Connected to                     \n",
      "==================================================================================================\n",
      "input_4 (InputLayer)            [(None, 1)]          0                                            \n",
      "__________________________________________________________________________________________________\n",
      "embedding (Embedding)           multiple             305800      input_4[0][0]                    \n",
      "__________________________________________________________________________________________________\n",
      "input_2 (InputLayer)            [(None, 500)]        0                                            \n",
      "__________________________________________________________________________________________________\n",
      "input_3 (InputLayer)            [(None, 500)]        0                                            \n",
      "__________________________________________________________________________________________________\n",
      "lstm (LSTM)                     multiple             1202000     embedding[1][0]                  \n",
      "                                                                 input_2[0][0]                    \n",
      "                                                                 input_3[0][0]                    \n",
      "__________________________________________________________________________________________________\n",
      "dense (Dense)                   multiple             1532058     lstm[1][0]                       \n",
      "==================================================================================================\n",
      "Total params: 3,039,858\n",
      "Trainable params: 3,039,858\n",
      "Non-trainable params: 0\n",
      "__________________________________________________________________________________________________\n"
     ]
    }
   ],
   "source": [
    "input2_ = tf.keras.layers.Input(shape=(1,))\n",
    "\n",
    "x = embed_layer(input2_)\n",
    "x,h,c = lstm_layer_0(x, initial_state = [initial_h, initial_c])\n",
    "#x,h,c = lstm_layer_1(x)\n",
    "\n",
    "output2_ = dense_layer(x)\n",
    "\n",
    "pred_model = tf.keras.models.Model([input2_, initial_h, initial_c], [output2_,h,c])\n",
    "pred_model.summary()"
   ]
  },
  {
   "cell_type": "code",
   "execution_count": 18,
   "metadata": {},
   "outputs": [
    {
     "name": "stdout",
     "output_type": "stream",
     "text": [
      "(1, 1)\n",
      "['what- ', 'there ', 'outdoors. ', 'attic, ', 'no ', 'it, ', 'ourselves ', 'cellar. ', 'skulls ', \"aren't \", 'of ']\n"
     ]
    }
   ],
   "source": [
    "test_input_word = '<sos>'\n",
    "test_input_word_idx = word2Idx[test_input_word]\n",
    "test_input_word_vector = np.array([[test_input_word_idx]])\n",
    "\n",
    "print (test_input_word_vector.shape)\n",
    "\n",
    "h = np.zeros((1,LSTM_UNITS))\n",
    "c = np.zeros((1,LSTM_UNITS))\n",
    "\n",
    "output_poem = []\n",
    "eos = word2Idx['<eos>']\n",
    "idx2word = {v:k for k, v in word2Idx.items()}\n",
    "\n",
    "for i in range(max_seq_len_from_data):\n",
    "    \n",
    "    o,h,c = pred_model.predict([test_input_word_vector, h, c])\n",
    "    \n",
    "    probs = o[0,0]\n",
    "    if (np.argmax(probs)==0):\n",
    "        print ('hell!')\n",
    "    probs[0] = 0\n",
    "    probs = probs/probs.sum()\n",
    "    \n",
    "    idx = np.random.choice(len(probs), p=probs)\n",
    "    if (idx == eos):\n",
    "        break\n",
    "    \n",
    "    test_input_word_vector[0,0] = idx\n",
    "    \n",
    "    output_poem.append(idx2word.get(idx) + ' ')\n",
    "    \n",
    "print (output_poem)"
   ]
  },
  {
   "cell_type": "code",
   "execution_count": null,
   "metadata": {},
   "outputs": [],
   "source": []
  }
 ],
 "metadata": {
  "kernelspec": {
   "display_name": "Python 3",
   "language": "python",
   "name": "python3"
  },
  "language_info": {
   "codemirror_mode": {
    "name": "ipython",
    "version": 3
   },
   "file_extension": ".py",
   "mimetype": "text/x-python",
   "name": "python",
   "nbconvert_exporter": "python",
   "pygments_lexer": "ipython3",
   "version": "3.7.3"
  }
 },
 "nbformat": 4,
 "nbformat_minor": 2
}
