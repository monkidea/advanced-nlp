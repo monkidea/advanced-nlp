{
 "cells": [
  {
   "cell_type": "code",
   "execution_count": 2,
   "metadata": {},
   "outputs": [],
   "source": [
    "import pandas as pd\n",
    "import numpy as np\n",
    "import matplotlib.pyplot as plt\n",
    "import tensorflow as tf\n",
    "import os"
   ]
  },
  {
   "cell_type": "markdown",
   "metadata": {},
   "source": [
    "# Read the Merged file"
   ]
  },
  {
   "cell_type": "code",
   "execution_count": 6,
   "metadata": {},
   "outputs": [],
   "source": [
    "def read_file(file):\n",
    "    f = open(file, 'r', encoding='utf-8')\n",
    "    lines = f.readlines()\n",
    "    data = '\\t'.join([line.strip() for line in lines])\n",
    "    return data\n",
    "\n",
    "data = read_file('merged-content.txt')"
   ]
  },
  {
   "cell_type": "markdown",
   "metadata": {},
   "source": [
    "# Clean the Read file"
   ]
  },
  {
   "cell_type": "code",
   "execution_count": 7,
   "metadata": {},
   "outputs": [
    {
     "name": "stderr",
     "output_type": "stream",
     "text": [
      "[nltk_data] Downloading package stopwords to C:\\Users\\Aditya\n",
      "[nltk_data]     Jain\\AppData\\Roaming\\nltk_data...\n",
      "[nltk_data]   Package stopwords is already up-to-date!\n"
     ]
    },
    {
     "name": "stdout",
     "output_type": "stream",
     "text": [
      "term\n",
      "Number of tokens are  70548\n",
      "Number of unique tokens is  6852\n"
     ]
    }
   ],
   "source": [
    "import nltk\n",
    "nltk.download('stopwords')\n",
    "\n",
    "import re\n",
    "import string\n",
    "from nltk.corpus import stopwords\n",
    "import pandas as pd\n",
    "\n",
    "def clean_doc(doc):\n",
    "    \n",
    "    #replace -- with a space\n",
    "    doc = doc.replace('-',' ')\n",
    "    \n",
    "    #replace -- with a space\n",
    "    doc = doc.replace('.',' ')\n",
    "    \n",
    "    #split into tokens by white space\n",
    "    tokens = doc.split()\n",
    "    \n",
    "    # prepare for char filtering\n",
    "    re_punc = re.compile('[%s]'%re.escape(string.punctuation))\n",
    "    \n",
    "    #remove punctuation from words\n",
    "    tokens = [re_punc.sub('',w) for w in tokens]\n",
    "    \n",
    "    #remove remaining tokens that are not alphanumerics\n",
    "    tokens = [word for word in tokens if word.isalpha()]\n",
    "    \n",
    "    #make lower case\n",
    "    tokens = [word.lower() for word in tokens]\n",
    "    \n",
    "    #remove stop words & words which appear less than 1 times\n",
    "    stops = set(stopwords.words(\"english\"))\n",
    "    tokens = [word for word in tokens if not word in stops and len(word)>=3]\n",
    "\n",
    "    return tokens\n",
    "\n",
    "tokens = clean_doc(data)\n",
    "    \n",
    "print (tokens[0])\n",
    "print ('Number of tokens are ', len(tokens))\n",
    "print ('Number of unique tokens is ', len(set(tokens)))"
   ]
  },
  {
   "cell_type": "code",
   "execution_count": 8,
   "metadata": {},
   "outputs": [],
   "source": [
    "MAX_WORDS=80000\n",
    "BATCH_SIZE=16\n",
    "EPOCHS=2\n",
    "OOV_TOKEN=0\n",
    "EMBEDDING_DIM = 100\n",
    "MAX_SEQ_LENGTH=20\n",
    "VALIDATION_SPLIT_RATIO= 0.3\n",
    "LSTM_UNITS=64"
   ]
  },
  {
   "cell_type": "markdown",
   "metadata": {},
   "source": [
    "# Generate Sequences\n",
    "\n",
    "    - This method takes in bunch of tokens and then converts those tokens into sequences. The idea here is that we create\n",
    "    sequences of 21 tokens (words) each and then feed each sequence one at a time to the network. each word in the sequence represents a value at a given timesteps. All words in effect become the features"
   ]
  },
  {
   "cell_type": "code",
   "execution_count": 9,
   "metadata": {},
   "outputs": [
    {
     "name": "stdout",
     "output_type": "stream",
     "text": [
      "Total number of sequenes is  70528\n"
     ]
    }
   ],
   "source": [
    "def generate_sequences(size, tokens):\n",
    "    sequences = list()\n",
    "    size_seq = size + 1\n",
    "    for i in range (0, len(tokens)-size):\n",
    "        seq = tokens[i:size_seq+i]\n",
    "        line = ' '.join(seq)\n",
    "        sequences.append(line)\n",
    "        \n",
    "    print ('Total number of sequenes is ', len(sequences))\n",
    "    return sequences\n",
    "\n",
    "sequences = generate_sequences(MAX_SEQ_LENGTH, tokens)"
   ]
  },
  {
   "cell_type": "markdown",
   "metadata": {},
   "source": [
    "# Save generated sequences in new file"
   ]
  },
  {
   "cell_type": "code",
   "execution_count": 10,
   "metadata": {},
   "outputs": [],
   "source": [
    "def save_sequences(filename, sequences):\n",
    "    \n",
    "    file = open(filename,'w',encoding='utf-8')\n",
    "    lines = '\\n'.join(sequences)\n",
    "    file.write(lines)\n",
    "    file.close()\n",
    "    \n",
    "save_sequences('merged-content-cleaned.txt', sequences)"
   ]
  },
  {
   "cell_type": "markdown",
   "metadata": {},
   "source": [
    "# Read cleaned sequences from file"
   ]
  },
  {
   "cell_type": "code",
   "execution_count": 11,
   "metadata": {},
   "outputs": [],
   "source": [
    "def read_sequences(file):\n",
    "    f = open(file, 'r', encoding='utf-8')\n",
    "    lines = f.read()\n",
    "    return lines\n",
    "\n",
    "lines = read_sequences('merged-content-cleaned.txt')\n",
    "lines = lines.split('\\n')"
   ]
  },
  {
   "cell_type": "markdown",
   "metadata": {},
   "source": [
    "### Tokenize comments"
   ]
  },
  {
   "cell_type": "code",
   "execution_count": 13,
   "metadata": {},
   "outputs": [
    {
     "name": "stdout",
     "output_type": "stream",
     "text": [
      "Found 6853 unique words\n",
      "59\n",
      "Created 70528 padded input sequences\n"
     ]
    }
   ],
   "source": [
    "tokenizer = tf.keras.preprocessing.text.Tokenizer(num_words=MAX_WORDS, oov_token=OOV_TOKEN, filters='')\n",
    "tokenizer.fit_on_texts(lines)\n",
    "word2Idx = tokenizer.word_index\n",
    "VOCAB_LEN = len (word2Idx)+1\n",
    "\n",
    "print ('Found %d unique words'%(len(word2Idx)))\n",
    "print (word2Idx['isa'])\n",
    "\n",
    "sequences = tokenizer.texts_to_sequences(lines)\n",
    "padded_input_sequences = tf.keras.preprocessing.sequence.pad_sequences(sequences, padding='post', maxlen=MAX_SEQ_LENGTH)\n",
    "\n",
    "print ('Created %d padded input sequences'%(len(padded_input_sequences)))"
   ]
  },
  {
   "cell_type": "code",
   "execution_count": 14,
   "metadata": {},
   "outputs": [],
   "source": [
    "sequences = np.array(sequences)\n",
    "X = padded_input_sequences[:,:MAX_SEQ_LENGTH]\n",
    "y = padded_input_sequences[:,-1]\n",
    "y = tf.keras.utils.to_categorical(y, num_classes=VOCAB_LEN)"
   ]
  },
  {
   "cell_type": "markdown",
   "metadata": {},
   "source": [
    "#### Load GloVe embeddings"
   ]
  },
  {
   "cell_type": "code",
   "execution_count": 15,
   "metadata": {},
   "outputs": [
    {
     "name": "stdout",
     "output_type": "stream",
     "text": [
      "Found 400000 word embeddings\n"
     ]
    }
   ],
   "source": [
    "embeddings_index = {}\n",
    "\n",
    "f = open ('glove.6B.100d.txt','r', encoding='utf-8')\n",
    "for line in f:\n",
    "    values = line.split()\n",
    "    word = values[0]\n",
    "    coefs = np.asarray(values[1:])\n",
    "    embeddings_index[word]=coefs\n",
    "\n",
    "f.close()\n",
    "print ('Found %s word embeddings'%(len(embeddings_index)))"
   ]
  },
  {
   "cell_type": "code",
   "execution_count": 16,
   "metadata": {},
   "outputs": [
    {
     "name": "stdout",
     "output_type": "stream",
     "text": [
      "Min words to be considered are 6854\n",
      "(6854, 100)\n"
     ]
    }
   ],
   "source": [
    "num_words = min (MAX_WORDS, VOCAB_LEN)\n",
    "print ('Min words to be considered are %d'%(num_words))\n",
    "\n",
    "loaded_embeddings_matrix = np.zeros((num_words, EMBEDDING_DIM))\n",
    "\n",
    "for word, i in word2Idx.items():\n",
    "    if (i<num_words):\n",
    "        if word in embeddings_index.keys():\n",
    "            embedding_vector = embeddings_index[word]\n",
    "            loaded_embeddings_matrix[i] = embedding_vector\n",
    "\n",
    "print (loaded_embeddings_matrix.shape)"
   ]
  },
  {
   "cell_type": "markdown",
   "metadata": {},
   "source": [
    "# Configure Callbacks which would be executed during the training phase"
   ]
  },
  {
   "cell_type": "markdown",
   "metadata": {},
   "source": [
    "### Build Model"
   ]
  },
  {
   "cell_type": "code",
   "execution_count": 18,
   "metadata": {},
   "outputs": [],
   "source": [
    "embed_layer = tf.keras.layers.Embedding(input_dim = num_words,\n",
    "                               output_dim = EMBEDDING_DIM,\n",
    "                               input_length=MAX_SEQ_LENGTH, \n",
    "                               embeddings_initializer=tf.keras.initializers.Constant(loaded_embeddings_matrix),\n",
    "                               trainable=True)"
   ]
  },
  {
   "cell_type": "code",
   "execution_count": 23,
   "metadata": {},
   "outputs": [
    {
     "name": "stdout",
     "output_type": "stream",
     "text": [
      "Model: \"model\"\n",
      "_________________________________________________________________\n",
      "Layer (type)                 Output Shape              Param #   \n",
      "=================================================================\n",
      "input_3 (InputLayer)         [(None, 20)]              0         \n",
      "_________________________________________________________________\n",
      "embedding (Embedding)        (None, 20, 100)           685400    \n",
      "_________________________________________________________________\n",
      "conv1d_2 (Conv1D)            (None, 12, 16)            14416     \n",
      "_________________________________________________________________\n",
      "batch_normalization_2 (Batch (None, 12, 16)            64        \n",
      "_________________________________________________________________\n",
      "max_pooling1d_2 (MaxPooling1 (None, 2, 16)             0         \n",
      "_________________________________________________________________\n",
      "lstm_2 (LSTM)                (None, 2, 64)             20736     \n",
      "_________________________________________________________________\n",
      "lstm_3 (LSTM)                (None, 64)                33024     \n",
      "_________________________________________________________________\n",
      "dense (Dense)                (None, 6854)              445510    \n",
      "=================================================================\n",
      "Total params: 1,199,150\n",
      "Trainable params: 1,199,118\n",
      "Non-trainable params: 32\n",
      "_________________________________________________________________\n"
     ]
    }
   ],
   "source": [
    "input_ = tf.keras.layers.Input(shape=(MAX_SEQ_LENGTH,))\n",
    "\n",
    "x = embed_layer(input_)\n",
    "\n",
    "conv1d_1 = tf.keras.layers.Conv1D(filters=16, kernel_size=9, activation='relu')\n",
    "x = conv1d_1(x)\n",
    "\n",
    "batchnorm_1 = tf.keras.layers.BatchNormalization()\n",
    "x = batchnorm_1(x)\n",
    "\n",
    "maxpool_1 = tf.keras.layers.MaxPooling1D(pool_size=5)\n",
    "x = maxpool_1(x)\n",
    "\n",
    "#globalmaxpool_1 = tf.keras.layers.GlobalMaxPooling1D()\n",
    "#x = globalmaxpool_1(x)\n",
    "\n",
    "lstm_layer_0 = tf.keras.layers.LSTM(units=LSTM_UNITS, return_sequences=True)\n",
    "x = lstm_layer_0(x)\n",
    "\n",
    "lstm_layer_1 = tf.keras.layers.LSTM(units=LSTM_UNITS)\n",
    "x = lstm_layer_1(x)\n",
    "\n",
    "dense_layer2 = tf.keras.layers.Dense(num_words, activation='softmax')\n",
    "output = dense_layer2(x)\n",
    "\n",
    "model = tf.keras.models.Model(input_, output)\n",
    "\n",
    "model.compile (optimizer='adam', loss='categorical_crossentropy', metrics=['accuracy'])\n",
    "model.summary()"
   ]
  },
  {
   "cell_type": "code",
   "execution_count": 24,
   "metadata": {},
   "outputs": [],
   "source": [
    "from sklearn.model_selection import train_test_split\n",
    "\n",
    "train_sentences, test_sentences, train_targets, test_targets = train_test_split (X, y)"
   ]
  },
  {
   "cell_type": "code",
   "execution_count": 25,
   "metadata": {},
   "outputs": [
    {
     "name": "stderr",
     "output_type": "stream",
     "text": [
      "WARNING: Logging before flag parsing goes to stderr.\n",
      "W0902 12:44:22.227433  4136 deprecation.py:323] From C:\\MachineLearning\\anaconda\\lib\\site-packages\\tensorflow\\python\\ops\\math_grad.py:1250: add_dispatch_support.<locals>.wrapper (from tensorflow.python.ops.array_ops) is deprecated and will be removed in a future version.\n",
      "Instructions for updating:\n",
      "Use tf.where in 2.0, which has the same broadcast rule as np.where\n"
     ]
    },
    {
     "name": "stdout",
     "output_type": "stream",
     "text": [
      "Train on 37027 samples, validate on 15869 samples\n",
      "Epoch 1/2\n",
      "37027/37027 [==============================] - 70s 2ms/sample - loss: 7.6943 - accuracy: 0.0117 - val_loss: 7.4331 - val_accuracy: 0.0142\n",
      "Epoch 2/2\n",
      "37027/37027 [==============================] - 57s 2ms/sample - loss: 7.0615 - accuracy: 0.0259 - val_loss: 7.1339 - val_accuracy: 0.0396\n"
     ]
    }
   ],
   "source": [
    "history = model.fit (train_sentences, train_targets, batch_size=BATCH_SIZE, epochs=EPOCHS, validation_split=VALIDATION_SPLIT_RATIO)"
   ]
  },
  {
   "cell_type": "markdown",
   "metadata": {},
   "source": [
    "### Visualize Training Performance"
   ]
  },
  {
   "cell_type": "code",
   "execution_count": 29,
   "metadata": {},
   "outputs": [
    {
     "data": {
      "image/png": "[encoded data removed]",
      "text/plain": [
       "<Figure size 432x288 with 1 Axes>"
      ]
     },
     "metadata": {
      "needs_background": "light"
     },
     "output_type": "display_data"
    },
    {
     "data": {
      "image/png": "[encoded data removed]",
      "text/plain": [
       "<Figure size 432x288 with 1 Axes>"
      ]
     },
     "metadata": {
      "needs_background": "light"
     },
     "output_type": "display_data"
    }
   ],
   "source": [
    "import matplotlib.pyplot as plt\n",
    "%matplotlib inline\n",
    "\n",
    "## Visualizing Model Accuracy on Training & Validation data\n",
    "trainAccHistory = history.history['accuracy']\n",
    "validationAccHistory = history.history['val_accuracy']\n",
    "\n",
    "plt.plot(trainAccHistory)\n",
    "plt.plot(validationAccHistory)\n",
    "plt.xlabel('Epochs')\n",
    "plt.ylabel('Accuracy')\n",
    "plt.title('Train Vs Validation Accuracy')\n",
    "plt.legend(['Train','Validation'])\n",
    "plt.show()\n",
    "\n",
    "trainLossHistory = history.history['loss']\n",
    "validationLossHistory = history.history['val_loss']\n",
    "\n",
    "plt.plot(trainLossHistory)\n",
    "plt.plot(validationLossHistory)\n",
    "plt.xlabel('Epochs')\n",
    "plt.ylabel('Loss')\n",
    "plt.title('Train Vs Validation Loss')\n",
    "plt.legend(['Train','Validation'])\n",
    "plt.show()"
   ]
  },
  {
   "cell_type": "markdown",
   "metadata": {},
   "source": [
    "## Prove Quality of Word Embeddings\n",
    "\n",
    "### Create Matrix of Word Embeddings in our Vocab\n",
    "\n",
    "    - Read words from our word dictionary\n",
    "    - Read the embeddings weights from the embedding layer\n",
    "    - For each word in the dictionary read it's embedding weight and add to a dictionary"
   ]
  },
  {
   "cell_type": "code",
   "execution_count": 31,
   "metadata": {},
   "outputs": [
    {
     "name": "stdout",
     "output_type": "stream",
     "text": [
      "Shape of weights from embedding layer is  (6854, 100)\n",
      "Size of vocab is  6853\n"
     ]
    }
   ],
   "source": [
    "import numpy as np\n",
    "embeddings_index = {}\n",
    "\n",
    "# get weights from the embedding layer\n",
    "embeddings = model.layers[1].get_weights()[0]\n",
    "\n",
    "print ('Shape of weights from embedding layer is ', embeddings.shape)\n",
    "print ('Size of vocab is ', len(word2Idx))\n",
    "\n",
    "for word, i in word2Idx.items():\n",
    "    if (i<len(embeddings)):\n",
    "        embeddings_index[word] =  embeddings[i]"
   ]
  },
  {
   "cell_type": "markdown",
   "metadata": {},
   "source": [
    "#### Save the Reviews Embedding"
   ]
  },
  {
   "cell_type": "code",
   "execution_count": 32,
   "metadata": {},
   "outputs": [],
   "source": [
    "def save_list (p_embeddings, filename):\n",
    "    #open file\n",
    "    file = open (filename, 'w', encoding='utf-8')\n",
    "    \n",
    "    for word, i in word2Idx.items():\n",
    "        if (i<len(embeddings)):\n",
    "            embed = embeddings[i, :]\n",
    "            file.write('%s %s\\n' % (word, ' '.join(map(str, embed))))\n",
    "        \n",
    "    #close file\n",
    "    file.close()\n",
    "    \n",
    "save_list(embeddings_index, 'am.embeddings.100D.txt')"
   ]
  },
  {
   "cell_type": "markdown",
   "metadata": {},
   "source": [
    "# Leverage Embeddings to find similar words"
   ]
  },
  {
   "cell_type": "code",
   "execution_count": 33,
   "metadata": {},
   "outputs": [
    {
     "name": "stderr",
     "output_type": "stream",
     "text": [
      "W0902 12:48:20.245780  4136 smart_open_lib.py:385] this function is deprecated, use smart_open.open instead\n",
      "W0902 12:48:20.268776  4136 smart_open_lib.py:385] this function is deprecated, use smart_open.open instead\n",
      "W0902 12:48:20.270788  4136 smart_open_lib.py:385] this function is deprecated, use smart_open.open instead\n",
      "W0902 12:48:20.271777  4136 smart_open_lib.py:385] this function is deprecated, use smart_open.open instead\n",
      "W0902 12:48:20.526785  4136 smart_open_lib.py:385] this function is deprecated, use smart_open.open instead\n",
      "C:\\MachineLearning\\anaconda\\lib\\site-packages\\gensim\\models\\keyedvectors.py:2373: RuntimeWarning: invalid value encountered in true_divide\n",
      "  return (m / dist).astype(REAL)\n"
     ]
    },
    {
     "name": "stdout",
     "output_type": "stream",
     "text": [
      "[('portfolio', 0.5701218247413635), ('asset', 0.5660609006881714), ('merrill', 0.5588669180870056), ('mutual', 0.5465114116668701), ('equity', 0.5407130718231201), ('corporate', 0.5401830673217773), ('brokerage', 0.5350320339202881), ('lynch', 0.5161300897598267), ('morningstar', 0.5158453583717346), ('investment', 0.5079617500305176)]\n"
     ]
    }
   ],
   "source": [
    "from gensim.scripts.glove2word2vec import glove2word2vec\n",
    "\n",
    "#load the GloVe word embeddings file which has a 100 dimension representation for each word. Convert that into a word2vec supported format\n",
    "glove2word2vec('am.embeddings.100D.txt','word2vec.am.embeddings.100D.txt')\n",
    "\n",
    "from gensim.models import KeyedVectors\n",
    "\n",
    "# load the wordvec file\n",
    "lword2vecmodel = KeyedVectors.load_word2vec_format('word2vec.am.embeddings.100D.txt')\n",
    "\n",
    "# most similar words\n",
    "print (lword2vecmodel.most_similar(['fidelity']))"
   ]
  },
  {
   "cell_type": "markdown",
   "metadata": {},
   "source": [
    "#### Visualize embeddings using PCA\n",
    "\n",
    "    - In tour word embedding there are some 80K words with 100 dimensional embedding. We will select just 50 words and try to visualize them after doing a dimension reduction via PCA"
   ]
  },
  {
   "cell_type": "code",
   "execution_count": 34,
   "metadata": {},
   "outputs": [
    {
     "name": "stderr",
     "output_type": "stream",
     "text": [
      "C:\\MachineLearning\\anaconda\\lib\\site-packages\\ipykernel_launcher.py:1: DeprecationWarning: Call to deprecated `wv` (Attribute will be removed in 4.0.0, use self instead).\n",
      "  \"\"\"Entry point for launching an IPython kernel.\n"
     ]
    },
    {
     "data": {
      "image/png": "[encoded data removed]",
      "text/plain": [
       "<Figure size 1080x1080 with 1 Axes>"
      ]
     },
     "metadata": {
      "needs_background": "light"
     },
     "output_type": "display_data"
    }
   ],
   "source": [
    "lvocab = lword2vecmodel.wv.vocab\n",
    "words = []\n",
    "for i, word in enumerate(lvocab):\n",
    "    words.append(word)\n",
    "\n",
    "X = lword2vecmodel[lvocab]\n",
    "\n",
    "from sklearn.decomposition import PCA\n",
    "import matplotlib.pyplot as plt\n",
    "%matplotlib inline\n",
    "\n",
    "z = PCA(n_components=2)\n",
    "pca_model = z.fit(X)\n",
    "components = pca_model.transform(X)\n",
    "\n",
    "num_words_to_show=50\n",
    "\n",
    "plt.figure(figsize=(15,15))\n",
    "plt.scatter(components[0:num_words_to_show,0],components[0:num_words_to_show,1])\n",
    "for i in range(0, num_words_to_show):\n",
    "    plt.annotate(words[i], xy=(components[i,0],components[i,1]))\n",
    "plt.show()"
   ]
  },
  {
   "cell_type": "code",
   "execution_count": null,
   "metadata": {},
   "outputs": [],
   "source": []
  }
 ],
 "metadata": {
  "kernelspec": {
   "display_name": "Python 3",
   "language": "python",
   "name": "python3"
  },
  "language_info": {
   "codemirror_mode": {
    "name": "ipython",
    "version": 3
   },
   "file_extension": ".py",
   "mimetype": "text/x-python",
   "name": "python",
   "nbconvert_exporter": "python",
   "pygments_lexer": "ipython3",
   "version": "3.7.3"
  }
 },
 "nbformat": 4,
 "nbformat_minor": 2
}
