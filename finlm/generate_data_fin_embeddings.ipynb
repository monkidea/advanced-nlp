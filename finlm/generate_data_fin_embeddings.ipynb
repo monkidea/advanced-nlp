{
 "cells": [
  {
   "cell_type": "code",
   "execution_count": 1,
   "metadata": {},
   "outputs": [],
   "source": [
    "import pandas as pd\n",
    "import numpy as np\n",
    "import os"
   ]
  },
  {
   "cell_type": "code",
   "execution_count": 2,
   "metadata": {},
   "outputs": [
    {
     "name": "stdout",
     "output_type": "stream",
     "text": [
      "Number of web pages read is 943\n"
     ]
    }
   ],
   "source": [
    "import os\n",
    "import random\n",
    "\n",
    "input_dir = './scrapped pages'\n",
    "content = []\n",
    "\n",
    "def read_pages (input_dir):\n",
    "    dir_name = os.path.join(input_dir)\n",
    "    \n",
    "    for fname in os.listdir(dir_name):\n",
    "        if (fname[-4:]=='.txt'):\n",
    "            f = open (os.path.join(dir_name, fname), encoding='utf-8', mode='r')\n",
    "            c = f.read()\n",
    "            content.append(c)\n",
    "            f.close()\n",
    "                \n",
    "#read positive & negative reviews\n",
    "read_pages(input_dir)\n",
    "\n",
    "print ('Number of web pages read is %d'%(len(content)))"
   ]
  },
  {
   "cell_type": "markdown",
   "metadata": {},
   "source": [
    "# Save generated merged content in new file"
   ]
  },
  {
   "cell_type": "code",
   "execution_count": 3,
   "metadata": {},
   "outputs": [],
   "source": [
    "def save_content(filename, content):\n",
    "    \n",
    "    file = open(filename,'w',encoding='utf-8')\n",
    "    lines = '\\n'.join(content)\n",
    "    file.write(lines)\n",
    "    file.close()\n",
    "    \n",
    "save_content('merged-content.txt', content)"
   ]
  }
 ],
 "metadata": {
  "kernelspec": {
   "display_name": "Python 3",
   "language": "python",
   "name": "python3"
  },
  "language_info": {
   "codemirror_mode": {
    "name": "ipython",
    "version": 3
   },
   "file_extension": ".py",
   "mimetype": "text/x-python",
   "name": "python",
   "nbconvert_exporter": "python",
   "pygments_lexer": "ipython3",
   "version": "3.7.3"
  }
 },
 "nbformat": 4,
 "nbformat_minor": 2
}
